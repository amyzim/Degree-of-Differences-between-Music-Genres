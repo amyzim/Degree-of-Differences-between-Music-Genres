{
 "cells": [
  {
   "cell_type": "markdown",
   "metadata": {},
   "source": [
    "# An Analysis of the Degree of Difference between Music Genres"
   ]
  },
  {
   "cell_type": "markdown",
   "metadata": {},
   "source": [
    "# 1. Load Data"
   ]
  },
  {
   "cell_type": "markdown",
   "metadata": {},
   "source": [
    "Import libraries"
   ]
  },
  {
   "cell_type": "code",
   "execution_count": 1,
   "metadata": {},
   "outputs": [],
   "source": [
    "import numpy as np\n",
    "import pandas as pd\n",
    "import matplotlib as mpl\n",
    "import matplotlib.pyplot as plt\n",
    "import seaborn as sns\n",
    "from sklearn import metrics, tree, ensemble\n",
    "from sklearn.neighbors import KNeighborsClassifier\n",
    "from sklearn.ensemble import RandomForestClassifier\n",
    "from sklearn.model_selection import train_test_split, GridSearchCV\n",
    "from sklearn.preprocessing import StandardScaler\n",
    "from sklearn.decomposition import PCA\n",
    "from yellowbrick.classifier import ClassificationReport\n",
    "\n",
    "%matplotlib inline"
   ]
  },
  {
   "cell_type": "markdown",
   "metadata": {},
   "source": [
    "Get feature matrix of song metadata"
   ]
  },
  {
   "cell_type": "code",
   "execution_count": 2,
   "metadata": {},
   "outputs": [
    {
     "name": "stdout",
     "output_type": "stream",
     "text": [
      "Song metadata shape:  (1000000, 11)\n",
      "Song metadata columns:  Index(['track_id', 'title', 'song_id', 'release', 'artist_id', 'artist_mbid',\n",
      "       'artist_name', 'duration', 'artist_familiarity', 'artist_hotttnesss',\n",
      "       'year'],\n",
      "      dtype='object')\n"
     ]
    }
   ],
   "source": [
    "import sqlite3\n",
    "db = sqlite3.connect('Automatic Tagging/track_metadata.db')\n",
    "songs = pd.read_sql_query(\"SELECT * from songs\", db)\n",
    "\n",
    "print(\"Song metadata shape: \", songs.shape)\n",
    "print(\"Song metadata columns: \", songs.columns)"
   ]
  },
  {
   "cell_type": "markdown",
   "metadata": {},
   "source": [
    "Get target matrix of music genres from AllMusic.com via http://www.ifs.tuwien.ac.at/mir/msd/partitions/msd-MASD-styleAssignment.cls"
   ]
  },
  {
   "cell_type": "code",
   "execution_count": 3,
   "metadata": {},
   "outputs": [
    {
     "name": "stdout",
     "output_type": "stream",
     "text": [
      "Genre data shape:  (406427, 2)\n",
      "Genre data columns:  Index(['track_id', 'genre'], dtype='object')\n"
     ]
    }
   ],
   "source": [
    "genres_cols = ['track_id','genre']\n",
    "genres = pd.read_csv('Genre mapping 13.txt', sep='\\t',header=None,names=genres_cols)\n",
    "\n",
    "print(\"Genre data shape: \", genres.shape)\n",
    "print(\"Genre data columns: \", genres.columns)"
   ]
  },
  {
   "cell_type": "markdown",
   "metadata": {},
   "source": [
    "Merge feature and target matrices"
   ]
  },
  {
   "cell_type": "code",
   "execution_count": 4,
   "metadata": {},
   "outputs": [
    {
     "name": "stdout",
     "output_type": "stream",
     "text": [
      "Merged data shape:  (406427, 12)\n",
      "Merged data columns:  Index(['track_id', 'title', 'song_id', 'release', 'artist_id', 'artist_mbid',\n",
      "       'artist_name', 'duration', 'artist_familiarity', 'artist_hotttnesss',\n",
      "       'year', 'genre'],\n",
      "      dtype='object')\n"
     ]
    }
   ],
   "source": [
    "songs_w_genre = songs.merge(genres, on='track_id', how='inner')\n",
    "print(\"Merged data shape: \", songs_w_genre.shape)\n",
    "print(\"Merged data columns: \", songs_w_genre.columns)"
   ]
  },
  {
   "cell_type": "markdown",
   "metadata": {},
   "source": [
    "# 2. Clean Data"
   ]
  },
  {
   "cell_type": "markdown",
   "metadata": {},
   "source": [
    "Get column summary statistics"
   ]
  },
  {
   "cell_type": "code",
   "execution_count": 5,
   "metadata": {},
   "outputs": [
    {
     "data": {
      "text/html": [
       "<div>\n",
       "<style>\n",
       "    .dataframe thead tr:only-child th {\n",
       "        text-align: right;\n",
       "    }\n",
       "\n",
       "    .dataframe thead th {\n",
       "        text-align: left;\n",
       "    }\n",
       "\n",
       "    .dataframe tbody tr th {\n",
       "        vertical-align: top;\n",
       "    }\n",
       "</style>\n",
       "<table border=\"1\" class=\"dataframe\">\n",
       "  <thead>\n",
       "    <tr style=\"text-align: right;\">\n",
       "      <th></th>\n",
       "      <th>track_id</th>\n",
       "      <th>title</th>\n",
       "      <th>song_id</th>\n",
       "      <th>release</th>\n",
       "      <th>artist_id</th>\n",
       "      <th>artist_mbid</th>\n",
       "      <th>artist_name</th>\n",
       "      <th>duration</th>\n",
       "      <th>artist_familiarity</th>\n",
       "      <th>artist_hotttnesss</th>\n",
       "      <th>year</th>\n",
       "      <th>genre</th>\n",
       "    </tr>\n",
       "  </thead>\n",
       "  <tbody>\n",
       "    <tr>\n",
       "      <th>count</th>\n",
       "      <td>406427</td>\n",
       "      <td>406427</td>\n",
       "      <td>406427</td>\n",
       "      <td>406427</td>\n",
       "      <td>406427</td>\n",
       "      <td>406427</td>\n",
       "      <td>406427</td>\n",
       "      <td>406427.000000</td>\n",
       "      <td>406427.000000</td>\n",
       "      <td>406427.000000</td>\n",
       "      <td>406427.000000</td>\n",
       "      <td>406427</td>\n",
       "    </tr>\n",
       "    <tr>\n",
       "      <th>unique</th>\n",
       "      <td>406427</td>\n",
       "      <td>314371</td>\n",
       "      <td>405959</td>\n",
       "      <td>53483</td>\n",
       "      <td>22300</td>\n",
       "      <td>20775</td>\n",
       "      <td>22614</td>\n",
       "      <td>NaN</td>\n",
       "      <td>NaN</td>\n",
       "      <td>NaN</td>\n",
       "      <td>NaN</td>\n",
       "      <td>13</td>\n",
       "    </tr>\n",
       "    <tr>\n",
       "      <th>top</th>\n",
       "      <td>TRKTCHC12903CF1521</td>\n",
       "      <td>Intro</td>\n",
       "      <td>SOUWROC12A8C141CF3</td>\n",
       "      <td>Classic Masters</td>\n",
       "      <td>AR6CLFP1187B9ACB94</td>\n",
       "      <td></td>\n",
       "      <td>Daniel Johnston</td>\n",
       "      <td>NaN</td>\n",
       "      <td>NaN</td>\n",
       "      <td>NaN</td>\n",
       "      <td>NaN</td>\n",
       "      <td>Pop_Rock</td>\n",
       "    </tr>\n",
       "    <tr>\n",
       "      <th>freq</th>\n",
       "      <td>1</td>\n",
       "      <td>701</td>\n",
       "      <td>3</td>\n",
       "      <td>122</td>\n",
       "      <td>124</td>\n",
       "      <td>15001</td>\n",
       "      <td>124</td>\n",
       "      <td>NaN</td>\n",
       "      <td>NaN</td>\n",
       "      <td>NaN</td>\n",
       "      <td>NaN</td>\n",
       "      <td>238786</td>\n",
       "    </tr>\n",
       "    <tr>\n",
       "      <th>mean</th>\n",
       "      <td>NaN</td>\n",
       "      <td>NaN</td>\n",
       "      <td>NaN</td>\n",
       "      <td>NaN</td>\n",
       "      <td>NaN</td>\n",
       "      <td>NaN</td>\n",
       "      <td>NaN</td>\n",
       "      <td>249.170439</td>\n",
       "      <td>0.583255</td>\n",
       "      <td>0.397316</td>\n",
       "      <td>1283.987895</td>\n",
       "      <td>NaN</td>\n",
       "    </tr>\n",
       "    <tr>\n",
       "      <th>std</th>\n",
       "      <td>NaN</td>\n",
       "      <td>NaN</td>\n",
       "      <td>NaN</td>\n",
       "      <td>NaN</td>\n",
       "      <td>NaN</td>\n",
       "      <td>NaN</td>\n",
       "      <td>NaN</td>\n",
       "      <td>115.312157</td>\n",
       "      <td>0.128301</td>\n",
       "      <td>0.117872</td>\n",
       "      <td>958.494905</td>\n",
       "      <td>NaN</td>\n",
       "    </tr>\n",
       "    <tr>\n",
       "      <th>min</th>\n",
       "      <td>NaN</td>\n",
       "      <td>NaN</td>\n",
       "      <td>NaN</td>\n",
       "      <td>NaN</td>\n",
       "      <td>NaN</td>\n",
       "      <td>NaN</td>\n",
       "      <td>NaN</td>\n",
       "      <td>0.495870</td>\n",
       "      <td>-1.000000</td>\n",
       "      <td>-1.000000</td>\n",
       "      <td>0.000000</td>\n",
       "      <td>NaN</td>\n",
       "    </tr>\n",
       "    <tr>\n",
       "      <th>25%</th>\n",
       "      <td>NaN</td>\n",
       "      <td>NaN</td>\n",
       "      <td>NaN</td>\n",
       "      <td>NaN</td>\n",
       "      <td>NaN</td>\n",
       "      <td>NaN</td>\n",
       "      <td>NaN</td>\n",
       "      <td>187.637100</td>\n",
       "      <td>0.501873</td>\n",
       "      <td>0.348904</td>\n",
       "      <td>0.000000</td>\n",
       "      <td>NaN</td>\n",
       "    </tr>\n",
       "    <tr>\n",
       "      <th>50%</th>\n",
       "      <td>NaN</td>\n",
       "      <td>NaN</td>\n",
       "      <td>NaN</td>\n",
       "      <td>NaN</td>\n",
       "      <td>NaN</td>\n",
       "      <td>NaN</td>\n",
       "      <td>NaN</td>\n",
       "      <td>232.567710</td>\n",
       "      <td>0.581444</td>\n",
       "      <td>0.397257</td>\n",
       "      <td>1995.000000</td>\n",
       "      <td>NaN</td>\n",
       "    </tr>\n",
       "    <tr>\n",
       "      <th>75%</th>\n",
       "      <td>NaN</td>\n",
       "      <td>NaN</td>\n",
       "      <td>NaN</td>\n",
       "      <td>NaN</td>\n",
       "      <td>NaN</td>\n",
       "      <td>NaN</td>\n",
       "      <td>NaN</td>\n",
       "      <td>288.234650</td>\n",
       "      <td>0.665133</td>\n",
       "      <td>0.456728</td>\n",
       "      <td>2004.000000</td>\n",
       "      <td>NaN</td>\n",
       "    </tr>\n",
       "    <tr>\n",
       "      <th>max</th>\n",
       "      <td>NaN</td>\n",
       "      <td>NaN</td>\n",
       "      <td>NaN</td>\n",
       "      <td>NaN</td>\n",
       "      <td>NaN</td>\n",
       "      <td>NaN</td>\n",
       "      <td>NaN</td>\n",
       "      <td>3034.905670</td>\n",
       "      <td>1.000000</td>\n",
       "      <td>1.082503</td>\n",
       "      <td>2011.000000</td>\n",
       "      <td>NaN</td>\n",
       "    </tr>\n",
       "  </tbody>\n",
       "</table>\n",
       "</div>"
      ],
      "text/plain": [
       "                  track_id   title             song_id          release  \\\n",
       "count               406427  406427              406427           406427   \n",
       "unique              406427  314371              405959            53483   \n",
       "top     TRKTCHC12903CF1521   Intro  SOUWROC12A8C141CF3  Classic Masters   \n",
       "freq                     1     701                   3              122   \n",
       "mean                   NaN     NaN                 NaN              NaN   \n",
       "std                    NaN     NaN                 NaN              NaN   \n",
       "min                    NaN     NaN                 NaN              NaN   \n",
       "25%                    NaN     NaN                 NaN              NaN   \n",
       "50%                    NaN     NaN                 NaN              NaN   \n",
       "75%                    NaN     NaN                 NaN              NaN   \n",
       "max                    NaN     NaN                 NaN              NaN   \n",
       "\n",
       "                 artist_id artist_mbid      artist_name       duration  \\\n",
       "count               406427      406427           406427  406427.000000   \n",
       "unique               22300       20775            22614            NaN   \n",
       "top     AR6CLFP1187B9ACB94              Daniel Johnston            NaN   \n",
       "freq                   124       15001              124            NaN   \n",
       "mean                   NaN         NaN              NaN     249.170439   \n",
       "std                    NaN         NaN              NaN     115.312157   \n",
       "min                    NaN         NaN              NaN       0.495870   \n",
       "25%                    NaN         NaN              NaN     187.637100   \n",
       "50%                    NaN         NaN              NaN     232.567710   \n",
       "75%                    NaN         NaN              NaN     288.234650   \n",
       "max                    NaN         NaN              NaN    3034.905670   \n",
       "\n",
       "        artist_familiarity  artist_hotttnesss           year     genre  \n",
       "count        406427.000000      406427.000000  406427.000000    406427  \n",
       "unique                 NaN                NaN            NaN        13  \n",
       "top                    NaN                NaN            NaN  Pop_Rock  \n",
       "freq                   NaN                NaN            NaN    238786  \n",
       "mean              0.583255           0.397316    1283.987895       NaN  \n",
       "std               0.128301           0.117872     958.494905       NaN  \n",
       "min              -1.000000          -1.000000       0.000000       NaN  \n",
       "25%               0.501873           0.348904       0.000000       NaN  \n",
       "50%               0.581444           0.397257    1995.000000       NaN  \n",
       "75%               0.665133           0.456728    2004.000000       NaN  \n",
       "max               1.000000           1.082503    2011.000000       NaN  "
      ]
     },
     "execution_count": 5,
     "metadata": {},
     "output_type": "execute_result"
    }
   ],
   "source": [
    "songs_w_genre.describe(include='all')"
   ]
  },
  {
   "cell_type": "code",
   "execution_count": 6,
   "metadata": {},
   "outputs": [
    {
     "data": {
      "text/plain": [
       "<seaborn.axisgrid.PairGrid at 0x34a1b358>"
      ]
     },
     "execution_count": 6,
     "metadata": {},
     "output_type": "execute_result"
    },
    {
     "data": {
      "image/png": "[encoded data removed]",
      "text/plain": [
       "<matplotlib.figure.Figure at 0x34a1b390>"
      ]
     },
     "metadata": {},
     "output_type": "display_data"
    }
   ],
   "source": [
    "sns.pairplot(songs_w_genre, x_vars = ['duration','artist_familiarity','artist_hotttnesss'], \n",
    "             y_vars = ['duration','artist_familiarity','artist_hotttnesss'])"
   ]
  },
  {
   "cell_type": "markdown",
   "metadata": {},
   "source": [
    "View songs with duplicate song_ids"
   ]
  },
  {
   "cell_type": "code",
   "execution_count": 7,
   "metadata": {},
   "outputs": [
    {
     "data": {
      "text/html": [
       "<div>\n",
       "<style>\n",
       "    .dataframe thead tr:only-child th {\n",
       "        text-align: right;\n",
       "    }\n",
       "\n",
       "    .dataframe thead th {\n",
       "        text-align: left;\n",
       "    }\n",
       "\n",
       "    .dataframe tbody tr th {\n",
       "        vertical-align: top;\n",
       "    }\n",
       "</style>\n",
       "<table border=\"1\" class=\"dataframe\">\n",
       "  <thead>\n",
       "    <tr style=\"text-align: right;\">\n",
       "      <th></th>\n",
       "      <th>track_id</th>\n",
       "      <th>title</th>\n",
       "      <th>song_id</th>\n",
       "      <th>release</th>\n",
       "      <th>artist_id</th>\n",
       "      <th>artist_mbid</th>\n",
       "      <th>artist_name</th>\n",
       "      <th>duration</th>\n",
       "      <th>artist_familiarity</th>\n",
       "      <th>artist_hotttnesss</th>\n",
       "      <th>year</th>\n",
       "      <th>genre</th>\n",
       "    </tr>\n",
       "  </thead>\n",
       "  <tbody>\n",
       "    <tr>\n",
       "      <th>57572</th>\n",
       "      <td>TRHELBK128F931F176</td>\n",
       "      <td>Fire And The Thud</td>\n",
       "      <td>SOACGAQ12A58A79805</td>\n",
       "      <td>Humbug</td>\n",
       "      <td>ARM0P6Z1187FB4D466</td>\n",
       "      <td>ada7a83c-e3e1-40f1-93f9-3e73dbc9298a</td>\n",
       "      <td>Arctic Monkeys</td>\n",
       "      <td>237.40036</td>\n",
       "      <td>0.816597</td>\n",
       "      <td>0.553661</td>\n",
       "      <td>2009</td>\n",
       "      <td>Pop_Rock</td>\n",
       "    </tr>\n",
       "    <tr>\n",
       "      <th>232955</th>\n",
       "      <td>TRTOJFP128F933897E</td>\n",
       "      <td>Fire And The Thud</td>\n",
       "      <td>SOACGAQ12A58A79805</td>\n",
       "      <td>Humbug</td>\n",
       "      <td>ARM0P6Z1187FB4D466</td>\n",
       "      <td>ada7a83c-e3e1-40f1-93f9-3e73dbc9298a</td>\n",
       "      <td>Arctic Monkeys</td>\n",
       "      <td>239.51628</td>\n",
       "      <td>0.816597</td>\n",
       "      <td>0.564911</td>\n",
       "      <td>2009</td>\n",
       "      <td>Pop_Rock</td>\n",
       "    </tr>\n",
       "    <tr>\n",
       "      <th>212569</th>\n",
       "      <td>TRPTLLT128F146D71A</td>\n",
       "      <td>Falling Into Grace (Album Version)</td>\n",
       "      <td>SOADFGH12A6D4F74F7</td>\n",
       "      <td>One Hot Minute</td>\n",
       "      <td>ARE8GLF1187FB52532</td>\n",
       "      <td>8bfac288-ccc5-448d-9573-c33ea2aa5c30</td>\n",
       "      <td>Red Hot Chili Peppers</td>\n",
       "      <td>228.10077</td>\n",
       "      <td>0.833968</td>\n",
       "      <td>0.576904</td>\n",
       "      <td>1995</td>\n",
       "      <td>Pop_Rock</td>\n",
       "    </tr>\n",
       "    <tr>\n",
       "      <th>6062</th>\n",
       "      <td>TRMIGUO128F146D75D</td>\n",
       "      <td>Falling Into Grace (Album Version)</td>\n",
       "      <td>SOADFGH12A6D4F74F7</td>\n",
       "      <td>One Hot Minute</td>\n",
       "      <td>ARE8GLF1187FB52532</td>\n",
       "      <td>8bfac288-ccc5-448d-9573-c33ea2aa5c30</td>\n",
       "      <td>Red Hot Chili Peppers</td>\n",
       "      <td>228.10077</td>\n",
       "      <td>0.833968</td>\n",
       "      <td>0.569765</td>\n",
       "      <td>1995</td>\n",
       "      <td>Pop_Rock</td>\n",
       "    </tr>\n",
       "    <tr>\n",
       "      <th>27843</th>\n",
       "      <td>TRWVWHQ128F148BF07</td>\n",
       "      <td>We Ride</td>\n",
       "      <td>SOADYVX12A8A9D9462</td>\n",
       "      <td>We Ride</td>\n",
       "      <td>ARKU3Z61187FB51DCA</td>\n",
       "      <td>73e5e69d-3554-40d8-8516-00cb38737a1c</td>\n",
       "      <td>Rihanna</td>\n",
       "      <td>236.64281</td>\n",
       "      <td>0.917864</td>\n",
       "      <td>0.944343</td>\n",
       "      <td>2006</td>\n",
       "      <td>Pop_Rock</td>\n",
       "    </tr>\n",
       "    <tr>\n",
       "      <th>266393</th>\n",
       "      <td>TREMTLA128F42B4F7A</td>\n",
       "      <td>We Ride</td>\n",
       "      <td>SOADYVX12A8A9D9462</td>\n",
       "      <td>We Ride</td>\n",
       "      <td>ARKU3Z61187FB51DCA</td>\n",
       "      <td>73e5e69d-3554-40d8-8516-00cb38737a1c</td>\n",
       "      <td>Rihanna</td>\n",
       "      <td>236.17261</td>\n",
       "      <td>0.917864</td>\n",
       "      <td>0.969246</td>\n",
       "      <td>2006</td>\n",
       "      <td>Pop_Rock</td>\n",
       "    </tr>\n",
       "  </tbody>\n",
       "</table>\n",
       "</div>"
      ],
      "text/plain": [
       "                  track_id                               title  \\\n",
       "57572   TRHELBK128F931F176                   Fire And The Thud   \n",
       "232955  TRTOJFP128F933897E                   Fire And The Thud   \n",
       "212569  TRPTLLT128F146D71A  Falling Into Grace (Album Version)   \n",
       "6062    TRMIGUO128F146D75D  Falling Into Grace (Album Version)   \n",
       "27843   TRWVWHQ128F148BF07                             We Ride   \n",
       "266393  TREMTLA128F42B4F7A                             We Ride   \n",
       "\n",
       "                   song_id         release           artist_id  \\\n",
       "57572   SOACGAQ12A58A79805          Humbug  ARM0P6Z1187FB4D466   \n",
       "232955  SOACGAQ12A58A79805          Humbug  ARM0P6Z1187FB4D466   \n",
       "212569  SOADFGH12A6D4F74F7  One Hot Minute  ARE8GLF1187FB52532   \n",
       "6062    SOADFGH12A6D4F74F7  One Hot Minute  ARE8GLF1187FB52532   \n",
       "27843   SOADYVX12A8A9D9462         We Ride  ARKU3Z61187FB51DCA   \n",
       "266393  SOADYVX12A8A9D9462         We Ride  ARKU3Z61187FB51DCA   \n",
       "\n",
       "                                 artist_mbid            artist_name  \\\n",
       "57572   ada7a83c-e3e1-40f1-93f9-3e73dbc9298a         Arctic Monkeys   \n",
       "232955  ada7a83c-e3e1-40f1-93f9-3e73dbc9298a         Arctic Monkeys   \n",
       "212569  8bfac288-ccc5-448d-9573-c33ea2aa5c30  Red Hot Chili Peppers   \n",
       "6062    8bfac288-ccc5-448d-9573-c33ea2aa5c30  Red Hot Chili Peppers   \n",
       "27843   73e5e69d-3554-40d8-8516-00cb38737a1c                Rihanna   \n",
       "266393  73e5e69d-3554-40d8-8516-00cb38737a1c                Rihanna   \n",
       "\n",
       "         duration  artist_familiarity  artist_hotttnesss  year     genre  \n",
       "57572   237.40036            0.816597           0.553661  2009  Pop_Rock  \n",
       "232955  239.51628            0.816597           0.564911  2009  Pop_Rock  \n",
       "212569  228.10077            0.833968           0.576904  1995  Pop_Rock  \n",
       "6062    228.10077            0.833968           0.569765  1995  Pop_Rock  \n",
       "27843   236.64281            0.917864           0.944343  2006  Pop_Rock  \n",
       "266393  236.17261            0.917864           0.969246  2006  Pop_Rock  "
      ]
     },
     "execution_count": 7,
     "metadata": {},
     "output_type": "execute_result"
    }
   ],
   "source": [
    "songs_w_genre[songs_w_genre.duplicated(['song_id'], keep=False)].sort_values(by='song_id').head(6)"
   ]
  },
  {
   "cell_type": "markdown",
   "metadata": {},
   "source": [
    "Drop songs with duplicate song_ids"
   ]
  },
  {
   "cell_type": "code",
   "execution_count": 8,
   "metadata": {},
   "outputs": [
    {
     "name": "stdout",
     "output_type": "stream",
     "text": [
      "Song_id count:  405959\n",
      "Song_id unique:  405959\n"
     ]
    }
   ],
   "source": [
    "songs_w_genre_clean = songs_w_genre.drop_duplicates('song_id')\n",
    "print(\"Song_id count: \", songs_w_genre_clean['song_id'].count())\n",
    "print(\"Song_id unique: \", songs_w_genre_clean['song_id'].nunique())"
   ]
  },
  {
   "cell_type": "markdown",
   "metadata": {},
   "source": [
    "Find additional possible duplicates on duration, artist_id, and year"
   ]
  },
  {
   "cell_type": "code",
   "execution_count": 9,
   "metadata": {},
   "outputs": [
    {
     "data": {
      "text/html": [
       "<div>\n",
       "<style>\n",
       "    .dataframe thead tr:only-child th {\n",
       "        text-align: right;\n",
       "    }\n",
       "\n",
       "    .dataframe thead th {\n",
       "        text-align: left;\n",
       "    }\n",
       "\n",
       "    .dataframe tbody tr th {\n",
       "        vertical-align: top;\n",
       "    }\n",
       "</style>\n",
       "<table border=\"1\" class=\"dataframe\">\n",
       "  <thead>\n",
       "    <tr style=\"text-align: right;\">\n",
       "      <th></th>\n",
       "      <th>track_id</th>\n",
       "      <th>title</th>\n",
       "      <th>song_id</th>\n",
       "      <th>release</th>\n",
       "      <th>artist_id</th>\n",
       "      <th>artist_mbid</th>\n",
       "      <th>artist_name</th>\n",
       "      <th>duration</th>\n",
       "      <th>artist_familiarity</th>\n",
       "      <th>artist_hotttnesss</th>\n",
       "      <th>year</th>\n",
       "      <th>genre</th>\n",
       "    </tr>\n",
       "  </thead>\n",
       "  <tbody>\n",
       "    <tr>\n",
       "      <th>398408</th>\n",
       "      <td>TRYNITF128F422C478</td>\n",
       "      <td>Cavaquinho</td>\n",
       "      <td>SOEYURI12A81C22FA4</td>\n",
       "      <td>Sanfona</td>\n",
       "      <td>ARO81XD1187FB38096</td>\n",
       "      <td>2c9bfd68-38d2-4e9f-9baa-7f99ce7f2f79</td>\n",
       "      <td>Egberto Gismonti</td>\n",
       "      <td>1.20118</td>\n",
       "      <td>0.558759</td>\n",
       "      <td>0.397621</td>\n",
       "      <td>1981</td>\n",
       "      <td>Latin</td>\n",
       "    </tr>\n",
       "    <tr>\n",
       "      <th>289845</th>\n",
       "      <td>TRJTMNQ128F422C475</td>\n",
       "      <td>De Repente</td>\n",
       "      <td>SOHHGBI12A81C22F9F</td>\n",
       "      <td>Sanfona</td>\n",
       "      <td>ARO81XD1187FB38096</td>\n",
       "      <td>2c9bfd68-38d2-4e9f-9baa-7f99ce7f2f79</td>\n",
       "      <td>Egberto Gismonti</td>\n",
       "      <td>1.20118</td>\n",
       "      <td>0.558759</td>\n",
       "      <td>0.397621</td>\n",
       "      <td>1981</td>\n",
       "      <td>Latin</td>\n",
       "    </tr>\n",
       "    <tr>\n",
       "      <th>35823</th>\n",
       "      <td>TRGFAUU128F4262153</td>\n",
       "      <td>Snippet 16</td>\n",
       "      <td>SOQJRDF12AC9E156CD</td>\n",
       "      <td>Boo-Tay</td>\n",
       "      <td>ARRA2F91187B9B4061</td>\n",
       "      <td>7463fbd2-60fb-471a-a5cd-d42b75d72dad</td>\n",
       "      <td>Bare Jr.</td>\n",
       "      <td>3.99628</td>\n",
       "      <td>0.539381</td>\n",
       "      <td>0.360584</td>\n",
       "      <td>1998</td>\n",
       "      <td>Pop_Rock</td>\n",
       "    </tr>\n",
       "    <tr>\n",
       "      <th>277468</th>\n",
       "      <td>TRESCRR128F4262E7E</td>\n",
       "      <td>Snippet 18</td>\n",
       "      <td>SOABFYP12AC9E14F00</td>\n",
       "      <td>Boo-Tay</td>\n",
       "      <td>ARRA2F91187B9B4061</td>\n",
       "      <td>7463fbd2-60fb-471a-a5cd-d42b75d72dad</td>\n",
       "      <td>Bare Jr.</td>\n",
       "      <td>3.99628</td>\n",
       "      <td>0.539381</td>\n",
       "      <td>0.360584</td>\n",
       "      <td>1998</td>\n",
       "      <td>Pop_Rock</td>\n",
       "    </tr>\n",
       "    <tr>\n",
       "      <th>132754</th>\n",
       "      <td>TRQNTDQ128F4262E79</td>\n",
       "      <td>Snippet 9</td>\n",
       "      <td>SOENQUB12AC9DCB02B</td>\n",
       "      <td>Boo-Tay</td>\n",
       "      <td>ARRA2F91187B9B4061</td>\n",
       "      <td>7463fbd2-60fb-471a-a5cd-d42b75d72dad</td>\n",
       "      <td>Bare Jr.</td>\n",
       "      <td>3.99628</td>\n",
       "      <td>0.539381</td>\n",
       "      <td>0.360584</td>\n",
       "      <td>1998</td>\n",
       "      <td>Pop_Rock</td>\n",
       "    </tr>\n",
       "    <tr>\n",
       "      <th>158843</th>\n",
       "      <td>TRICISY128F4262141</td>\n",
       "      <td>Snippet 10</td>\n",
       "      <td>SOIQSUW12AC9E13F0F</td>\n",
       "      <td>Boo-Tay</td>\n",
       "      <td>ARRA2F91187B9B4061</td>\n",
       "      <td>7463fbd2-60fb-471a-a5cd-d42b75d72dad</td>\n",
       "      <td>Bare Jr.</td>\n",
       "      <td>3.99628</td>\n",
       "      <td>0.539381</td>\n",
       "      <td>0.360584</td>\n",
       "      <td>1998</td>\n",
       "      <td>Pop_Rock</td>\n",
       "    </tr>\n",
       "  </tbody>\n",
       "</table>\n",
       "</div>"
      ],
      "text/plain": [
       "                  track_id       title             song_id  release  \\\n",
       "398408  TRYNITF128F422C478  Cavaquinho  SOEYURI12A81C22FA4  Sanfona   \n",
       "289845  TRJTMNQ128F422C475  De Repente  SOHHGBI12A81C22F9F  Sanfona   \n",
       "35823   TRGFAUU128F4262153  Snippet 16  SOQJRDF12AC9E156CD  Boo-Tay   \n",
       "277468  TRESCRR128F4262E7E  Snippet 18  SOABFYP12AC9E14F00  Boo-Tay   \n",
       "132754  TRQNTDQ128F4262E79   Snippet 9  SOENQUB12AC9DCB02B  Boo-Tay   \n",
       "158843  TRICISY128F4262141  Snippet 10  SOIQSUW12AC9E13F0F  Boo-Tay   \n",
       "\n",
       "                 artist_id                           artist_mbid  \\\n",
       "398408  ARO81XD1187FB38096  2c9bfd68-38d2-4e9f-9baa-7f99ce7f2f79   \n",
       "289845  ARO81XD1187FB38096  2c9bfd68-38d2-4e9f-9baa-7f99ce7f2f79   \n",
       "35823   ARRA2F91187B9B4061  7463fbd2-60fb-471a-a5cd-d42b75d72dad   \n",
       "277468  ARRA2F91187B9B4061  7463fbd2-60fb-471a-a5cd-d42b75d72dad   \n",
       "132754  ARRA2F91187B9B4061  7463fbd2-60fb-471a-a5cd-d42b75d72dad   \n",
       "158843  ARRA2F91187B9B4061  7463fbd2-60fb-471a-a5cd-d42b75d72dad   \n",
       "\n",
       "             artist_name  duration  artist_familiarity  artist_hotttnesss  \\\n",
       "398408  Egberto Gismonti   1.20118            0.558759           0.397621   \n",
       "289845  Egberto Gismonti   1.20118            0.558759           0.397621   \n",
       "35823           Bare Jr.   3.99628            0.539381           0.360584   \n",
       "277468          Bare Jr.   3.99628            0.539381           0.360584   \n",
       "132754          Bare Jr.   3.99628            0.539381           0.360584   \n",
       "158843          Bare Jr.   3.99628            0.539381           0.360584   \n",
       "\n",
       "        year     genre  \n",
       "398408  1981     Latin  \n",
       "289845  1981     Latin  \n",
       "35823   1998  Pop_Rock  \n",
       "277468  1998  Pop_Rock  \n",
       "132754  1998  Pop_Rock  \n",
       "158843  1998  Pop_Rock  "
      ]
     },
     "execution_count": 9,
     "metadata": {},
     "output_type": "execute_result"
    }
   ],
   "source": [
    "songs_w_genre[songs_w_genre.duplicated(['duration','artist_name','year'], keep=False)].sort_values(by='duration').head(6)"
   ]
  },
  {
   "cell_type": "markdown",
   "metadata": {},
   "source": [
    "Drop duplicates of duration, artist_id, and year (this drops a few non-duplicates too, but it's conservative to remove them)"
   ]
  },
  {
   "cell_type": "code",
   "execution_count": 10,
   "metadata": {},
   "outputs": [
    {
     "name": "stdout",
     "output_type": "stream",
     "text": [
      "Song_id count:  404691\n"
     ]
    }
   ],
   "source": [
    "songs_w_genre_clean2 = songs_w_genre_clean.drop_duplicates(['duration','artist_name','year'])\n",
    "print(\"Song_id count: \", songs_w_genre_clean2['song_id'].count())"
   ]
  },
  {
   "cell_type": "markdown",
   "metadata": {},
   "source": [
    "View distribution of genres in the data"
   ]
  },
  {
   "cell_type": "code",
   "execution_count": 11,
   "metadata": {
    "scrolled": false
   },
   "outputs": [
    {
     "data": {
      "text/plain": [
       "<matplotlib.text.Text at 0xf0c8d30>"
      ]
     },
     "execution_count": 11,
     "metadata": {},
     "output_type": "execute_result"
    },
    {
     "data": {
      "image/png": "[encoded data removed]",
      "text/plain": [
       "<matplotlib.figure.Figure at 0xed94048>"
      ]
     },
     "metadata": {},
     "output_type": "display_data"
    }
   ],
   "source": [
    "songs_w_genre_clean2['genre'].value_counts(normalize=True).plot(kind='bar')\n",
    "plt.title('Percentage of Songs by Genre')"
   ]
  },
  {
   "cell_type": "markdown",
   "metadata": {},
   "source": [
    "Most artists have only one genre"
   ]
  },
  {
   "cell_type": "code",
   "execution_count": 12,
   "metadata": {},
   "outputs": [
    {
     "data": {
      "text/html": [
       "<div>\n",
       "<style>\n",
       "    .dataframe thead tr:only-child th {\n",
       "        text-align: right;\n",
       "    }\n",
       "\n",
       "    .dataframe thead th {\n",
       "        text-align: left;\n",
       "    }\n",
       "\n",
       "    .dataframe tbody tr th {\n",
       "        vertical-align: top;\n",
       "    }\n",
       "</style>\n",
       "<table border=\"1\" class=\"dataframe\">\n",
       "  <thead>\n",
       "    <tr style=\"text-align: right;\">\n",
       "      <th></th>\n",
       "      <th>track_id</th>\n",
       "      <th>title</th>\n",
       "      <th>song_id</th>\n",
       "      <th>release</th>\n",
       "      <th>artist_id</th>\n",
       "      <th>artist_mbid</th>\n",
       "      <th>artist_name</th>\n",
       "      <th>duration</th>\n",
       "      <th>artist_familiarity</th>\n",
       "      <th>artist_hotttnesss</th>\n",
       "      <th>year</th>\n",
       "      <th>genre</th>\n",
       "      <th>genre_count</th>\n",
       "    </tr>\n",
       "  </thead>\n",
       "  <tbody>\n",
       "    <tr>\n",
       "      <th>102988</th>\n",
       "      <td>TRBUSOR128F9306AC8</td>\n",
       "      <td>Rette Mich Später</td>\n",
       "      <td>SOOQRUA12AB017FF62</td>\n",
       "      <td>Lasso</td>\n",
       "      <td>ARNJVSL1187B99AFD4</td>\n",
       "      <td>5579a23d-c411-4930-987d-ff89d77c1c12</td>\n",
       "      <td>2raumwohnung</td>\n",
       "      <td>235.72853</td>\n",
       "      <td>0.66456</td>\n",
       "      <td>0.39757</td>\n",
       "      <td>2009</td>\n",
       "      <td>Pop_Rock</td>\n",
       "      <td>2</td>\n",
       "    </tr>\n",
       "    <tr>\n",
       "      <th>338922</th>\n",
       "      <td>TRDSQRT128F424F98D</td>\n",
       "      <td>2 von millionen von Sternen (Clubversion)</td>\n",
       "      <td>SOYJVSR12A8C13240B</td>\n",
       "      <td>Kommt zusammen Remix Album</td>\n",
       "      <td>ARNJVSL1187B99AFD4</td>\n",
       "      <td>5579a23d-c411-4930-987d-ff89d77c1c12</td>\n",
       "      <td>2raumwohnung</td>\n",
       "      <td>312.47628</td>\n",
       "      <td>0.66456</td>\n",
       "      <td>0.39757</td>\n",
       "      <td>2002</td>\n",
       "      <td>Electronic</td>\n",
       "      <td>2</td>\n",
       "    </tr>\n",
       "    <tr>\n",
       "      <th>193017</th>\n",
       "      <td>TRNZREB128F149AC37</td>\n",
       "      <td>Mir Kann Nichts Passieren</td>\n",
       "      <td>SOIEXTK12A6D4F7037</td>\n",
       "      <td>36 Grad</td>\n",
       "      <td>ARNJVSL1187B99AFD4</td>\n",
       "      <td>5579a23d-c411-4930-987d-ff89d77c1c12</td>\n",
       "      <td>2raumwohnung</td>\n",
       "      <td>238.07955</td>\n",
       "      <td>0.66456</td>\n",
       "      <td>0.39757</td>\n",
       "      <td>2007</td>\n",
       "      <td>Electronic</td>\n",
       "      <td>2</td>\n",
       "    </tr>\n",
       "    <tr>\n",
       "      <th>205072</th>\n",
       "      <td>TRPHMAQ128F428E2BE</td>\n",
       "      <td>Wir Sind Die Anderen (Ricardo Villalobos Remix)</td>\n",
       "      <td>SOAZXDO12A8C13C37D</td>\n",
       "      <td>36 Grad Remixe</td>\n",
       "      <td>ARNJVSL1187B99AFD4</td>\n",
       "      <td>5579a23d-c411-4930-987d-ff89d77c1c12</td>\n",
       "      <td>2raumwohnung</td>\n",
       "      <td>768.83546</td>\n",
       "      <td>0.66456</td>\n",
       "      <td>0.39757</td>\n",
       "      <td>2005</td>\n",
       "      <td>Pop_Rock</td>\n",
       "      <td>2</td>\n",
       "    </tr>\n",
       "    <tr>\n",
       "      <th>16574</th>\n",
       "      <td>TRWWNGV128F424F990</td>\n",
       "      <td>Nimm mich mit (Jan Driver Remix)</td>\n",
       "      <td>SOMTJDK12A8C132416</td>\n",
       "      <td>Kommt zusammen Remix Album</td>\n",
       "      <td>ARNJVSL1187B99AFD4</td>\n",
       "      <td>5579a23d-c411-4930-987d-ff89d77c1c12</td>\n",
       "      <td>2raumwohnung</td>\n",
       "      <td>321.20118</td>\n",
       "      <td>0.66456</td>\n",
       "      <td>0.39757</td>\n",
       "      <td>2000</td>\n",
       "      <td>Electronic</td>\n",
       "      <td>2</td>\n",
       "    </tr>\n",
       "  </tbody>\n",
       "</table>\n",
       "</div>"
      ],
      "text/plain": [
       "                  track_id                                            title  \\\n",
       "102988  TRBUSOR128F9306AC8                                Rette Mich Später   \n",
       "338922  TRDSQRT128F424F98D        2 von millionen von Sternen (Clubversion)   \n",
       "193017  TRNZREB128F149AC37                        Mir Kann Nichts Passieren   \n",
       "205072  TRPHMAQ128F428E2BE  Wir Sind Die Anderen (Ricardo Villalobos Remix)   \n",
       "16574   TRWWNGV128F424F990                 Nimm mich mit (Jan Driver Remix)   \n",
       "\n",
       "                   song_id                     release           artist_id  \\\n",
       "102988  SOOQRUA12AB017FF62                       Lasso  ARNJVSL1187B99AFD4   \n",
       "338922  SOYJVSR12A8C13240B  Kommt zusammen Remix Album  ARNJVSL1187B99AFD4   \n",
       "193017  SOIEXTK12A6D4F7037                     36 Grad  ARNJVSL1187B99AFD4   \n",
       "205072  SOAZXDO12A8C13C37D              36 Grad Remixe  ARNJVSL1187B99AFD4   \n",
       "16574   SOMTJDK12A8C132416  Kommt zusammen Remix Album  ARNJVSL1187B99AFD4   \n",
       "\n",
       "                                 artist_mbid   artist_name   duration  \\\n",
       "102988  5579a23d-c411-4930-987d-ff89d77c1c12  2raumwohnung  235.72853   \n",
       "338922  5579a23d-c411-4930-987d-ff89d77c1c12  2raumwohnung  312.47628   \n",
       "193017  5579a23d-c411-4930-987d-ff89d77c1c12  2raumwohnung  238.07955   \n",
       "205072  5579a23d-c411-4930-987d-ff89d77c1c12  2raumwohnung  768.83546   \n",
       "16574   5579a23d-c411-4930-987d-ff89d77c1c12  2raumwohnung  321.20118   \n",
       "\n",
       "        artist_familiarity  artist_hotttnesss  year       genre  genre_count  \n",
       "102988             0.66456            0.39757  2009    Pop_Rock            2  \n",
       "338922             0.66456            0.39757  2002  Electronic            2  \n",
       "193017             0.66456            0.39757  2007  Electronic            2  \n",
       "205072             0.66456            0.39757  2005    Pop_Rock            2  \n",
       "16574              0.66456            0.39757  2000  Electronic            2  "
      ]
     },
     "execution_count": 12,
     "metadata": {},
     "output_type": "execute_result"
    }
   ],
   "source": [
    "genres_per_artist = pd.DataFrame(songs_w_genre_clean2.groupby('artist_name')['genre'].nunique().reset_index())\n",
    "genres_per_artist.rename(columns={'genre':'genre_count'}, inplace=True)\n",
    "\n",
    "song_w_genre_clean_multgenre = songs_w_genre_clean2.merge(genres_per_artist, on='artist_name', how='left')\n",
    "song_w_genre_clean_multgenre[song_w_genre_clean_multgenre['genre_count']>1].sort_values('artist_name').head()"
   ]
  },
  {
   "cell_type": "code",
   "execution_count": 13,
   "metadata": {},
   "outputs": [
    {
     "data": {
      "text/plain": [
       "<matplotlib.text.Text at 0xe7e9be0>"
      ]
     },
     "execution_count": 13,
     "metadata": {},
     "output_type": "execute_result"
    },
    {
     "data": {
      "image/png": "[encoded data removed]",
      "text/plain": [
       "<matplotlib.figure.Figure at 0xe9f93c8>"
      ]
     },
     "metadata": {},
     "output_type": "display_data"
    }
   ],
   "source": [
    "genres_per_artist['genre_count'].value_counts().plot(kind='bar')\n",
    "plt.title('Frequency of Numbers of Genres per Artist')"
   ]
  },
  {
   "cell_type": "markdown",
   "metadata": {},
   "source": [
    "Drop -1 values of artist_familiarity and artist_hotttnesss"
   ]
  },
  {
   "cell_type": "code",
   "execution_count": 14,
   "metadata": {},
   "outputs": [
    {
     "name": "stdout",
     "output_type": "stream",
     "text": [
      "Shape prior to drop: (404691, 12)\n"
     ]
    }
   ],
   "source": [
    "print(\"Shape prior to drop:\", songs_w_genre_clean2.shape)"
   ]
  },
  {
   "cell_type": "code",
   "execution_count": 15,
   "metadata": {},
   "outputs": [
    {
     "data": {
      "text/html": [
       "<div>\n",
       "<style>\n",
       "    .dataframe thead tr:only-child th {\n",
       "        text-align: right;\n",
       "    }\n",
       "\n",
       "    .dataframe thead th {\n",
       "        text-align: left;\n",
       "    }\n",
       "\n",
       "    .dataframe tbody tr th {\n",
       "        vertical-align: top;\n",
       "    }\n",
       "</style>\n",
       "<table border=\"1\" class=\"dataframe\">\n",
       "  <thead>\n",
       "    <tr style=\"text-align: right;\">\n",
       "      <th></th>\n",
       "      <th>track_id</th>\n",
       "      <th>title</th>\n",
       "      <th>song_id</th>\n",
       "      <th>release</th>\n",
       "      <th>artist_id</th>\n",
       "      <th>artist_mbid</th>\n",
       "      <th>artist_name</th>\n",
       "      <th>duration</th>\n",
       "      <th>artist_familiarity</th>\n",
       "      <th>artist_hotttnesss</th>\n",
       "      <th>year</th>\n",
       "      <th>genre</th>\n",
       "    </tr>\n",
       "  </thead>\n",
       "  <tbody>\n",
       "    <tr>\n",
       "      <th>4974</th>\n",
       "      <td>TRMQZZO128F92F83F5</td>\n",
       "      <td>Cicacicabum</td>\n",
       "      <td>SOCNJNA12AAF3B274E</td>\n",
       "      <td>El soneros</td>\n",
       "      <td>ARLYTLL122988F2B39</td>\n",
       "      <td></td>\n",
       "      <td>Juan Carlos Vega</td>\n",
       "      <td>203.83302</td>\n",
       "      <td>-1.0</td>\n",
       "      <td>0.0</td>\n",
       "      <td>0</td>\n",
       "      <td>Latin</td>\n",
       "    </tr>\n",
       "    <tr>\n",
       "      <th>63564</th>\n",
       "      <td>TRCWSAY128F429AFFB</td>\n",
       "      <td>My Own_ My Only_ My All</td>\n",
       "      <td>SOZYYWJ12A8C13B5B2</td>\n",
       "      <td>Sings Songs Of Love</td>\n",
       "      <td>AR8LR0X1187FB4CCB7</td>\n",
       "      <td>06780d05-0b54-44a4-9fde-1307d5f9ced6</td>\n",
       "      <td>Monica Lewis</td>\n",
       "      <td>164.54485</td>\n",
       "      <td>-1.0</td>\n",
       "      <td>0.0</td>\n",
       "      <td>0</td>\n",
       "      <td>Vocal</td>\n",
       "    </tr>\n",
       "    <tr>\n",
       "      <th>80377</th>\n",
       "      <td>TRRHLHU128F92F8415</td>\n",
       "      <td>Amor pide amor</td>\n",
       "      <td>SOLUCMF12AAF3B596E</td>\n",
       "      <td>El soneros</td>\n",
       "      <td>ARLYTLL122988F2B39</td>\n",
       "      <td></td>\n",
       "      <td>Juan Carlos Vega</td>\n",
       "      <td>178.75546</td>\n",
       "      <td>-1.0</td>\n",
       "      <td>0.0</td>\n",
       "      <td>0</td>\n",
       "      <td>Latin</td>\n",
       "    </tr>\n",
       "    <tr>\n",
       "      <th>99259</th>\n",
       "      <td>TRBZQRQ128F92F83D5</td>\n",
       "      <td>Alegria</td>\n",
       "      <td>SOCGRXU12AAF3B534E</td>\n",
       "      <td>El soneros</td>\n",
       "      <td>ARLYTLL122988F2B39</td>\n",
       "      <td></td>\n",
       "      <td>Juan Carlos Vega</td>\n",
       "      <td>174.88934</td>\n",
       "      <td>-1.0</td>\n",
       "      <td>0.0</td>\n",
       "      <td>0</td>\n",
       "      <td>Latin</td>\n",
       "    </tr>\n",
       "    <tr>\n",
       "      <th>100058</th>\n",
       "      <td>TRBIEKG12903D01567</td>\n",
       "      <td>La feria de las flores</td>\n",
       "      <td>SOSBNZD12AC3DF573D</td>\n",
       "      <td>Jorge Negrete</td>\n",
       "      <td>ARORILY12420781766</td>\n",
       "      <td></td>\n",
       "      <td>Jorge Negrete</td>\n",
       "      <td>170.31791</td>\n",
       "      <td>-1.0</td>\n",
       "      <td>0.0</td>\n",
       "      <td>0</td>\n",
       "      <td>Latin</td>\n",
       "    </tr>\n",
       "    <tr>\n",
       "      <th>103029</th>\n",
       "      <td>TRBULUN128F92F8421</td>\n",
       "      <td>Felicidad</td>\n",
       "      <td>SORYQOP12AAF3B59A2</td>\n",
       "      <td>El soneros</td>\n",
       "      <td>ARLYTLL122988F2B39</td>\n",
       "      <td></td>\n",
       "      <td>Juan Carlos Vega</td>\n",
       "      <td>245.15873</td>\n",
       "      <td>-1.0</td>\n",
       "      <td>0.0</td>\n",
       "      <td>0</td>\n",
       "      <td>Latin</td>\n",
       "    </tr>\n",
       "    <tr>\n",
       "      <th>127311</th>\n",
       "      <td>TRQHPAQ128F92F8406</td>\n",
       "      <td>El sonador</td>\n",
       "      <td>SOLWETI12AAF3B5052</td>\n",
       "      <td>El soneros</td>\n",
       "      <td>ARLYTLL122988F2B39</td>\n",
       "      <td></td>\n",
       "      <td>Juan Carlos Vega</td>\n",
       "      <td>186.35710</td>\n",
       "      <td>-1.0</td>\n",
       "      <td>0.0</td>\n",
       "      <td>0</td>\n",
       "      <td>Latin</td>\n",
       "    </tr>\n",
       "    <tr>\n",
       "      <th>158118</th>\n",
       "      <td>TRIHWJD128F92F83E4</td>\n",
       "      <td>Rubra</td>\n",
       "      <td>SOKVUMH12AAF3B26F5</td>\n",
       "      <td>El soneros</td>\n",
       "      <td>ARLYTLL122988F2B39</td>\n",
       "      <td></td>\n",
       "      <td>Juan Carlos Vega</td>\n",
       "      <td>186.69669</td>\n",
       "      <td>-1.0</td>\n",
       "      <td>0.0</td>\n",
       "      <td>0</td>\n",
       "      <td>Latin</td>\n",
       "    </tr>\n",
       "    <tr>\n",
       "      <th>200451</th>\n",
       "      <td>TRNVLBV128F92F83EC</td>\n",
       "      <td>Escuela de amor</td>\n",
       "      <td>SOQKVJJ12AAF3B271F</td>\n",
       "      <td>El soneros</td>\n",
       "      <td>ARLYTLL122988F2B39</td>\n",
       "      <td></td>\n",
       "      <td>Juan Carlos Vega</td>\n",
       "      <td>227.78730</td>\n",
       "      <td>-1.0</td>\n",
       "      <td>0.0</td>\n",
       "      <td>0</td>\n",
       "      <td>Latin</td>\n",
       "    </tr>\n",
       "    <tr>\n",
       "      <th>255808</th>\n",
       "      <td>TRLQKIL128F92F8429</td>\n",
       "      <td>Guitarrita</td>\n",
       "      <td>SOKFYQY12AAF3B59BF</td>\n",
       "      <td>El soneros</td>\n",
       "      <td>ARLYTLL122988F2B39</td>\n",
       "      <td></td>\n",
       "      <td>Juan Carlos Vega</td>\n",
       "      <td>168.61995</td>\n",
       "      <td>-1.0</td>\n",
       "      <td>0.0</td>\n",
       "      <td>0</td>\n",
       "      <td>Latin</td>\n",
       "    </tr>\n",
       "    <tr>\n",
       "      <th>274887</th>\n",
       "      <td>TRETYSU128F92F840F</td>\n",
       "      <td>Abrazame</td>\n",
       "      <td>SOHLSPG12AAF3B507E</td>\n",
       "      <td>El soneros</td>\n",
       "      <td>ARLYTLL122988F2B39</td>\n",
       "      <td></td>\n",
       "      <td>Juan Carlos Vega</td>\n",
       "      <td>181.08036</td>\n",
       "      <td>-1.0</td>\n",
       "      <td>0.0</td>\n",
       "      <td>0</td>\n",
       "      <td>Latin</td>\n",
       "    </tr>\n",
       "    <tr>\n",
       "      <th>329879</th>\n",
       "      <td>TRDGPBC128F92F841B</td>\n",
       "      <td>Como es bella la vida</td>\n",
       "      <td>SODSVKW12AAF3B598B</td>\n",
       "      <td>El soneros</td>\n",
       "      <td>ARLYTLL122988F2B39</td>\n",
       "      <td></td>\n",
       "      <td>Juan Carlos Vega</td>\n",
       "      <td>196.20526</td>\n",
       "      <td>-1.0</td>\n",
       "      <td>0.0</td>\n",
       "      <td>0</td>\n",
       "      <td>Latin</td>\n",
       "    </tr>\n",
       "    <tr>\n",
       "      <th>381004</th>\n",
       "      <td>TRKZAXW128F92F842E</td>\n",
       "      <td>Buleria espanola</td>\n",
       "      <td>SOCWXHU12AAF3B59D4</td>\n",
       "      <td>El soneros</td>\n",
       "      <td>ARLYTLL122988F2B39</td>\n",
       "      <td></td>\n",
       "      <td>Juan Carlos Vega</td>\n",
       "      <td>358.97424</td>\n",
       "      <td>-1.0</td>\n",
       "      <td>0.0</td>\n",
       "      <td>0</td>\n",
       "      <td>Latin</td>\n",
       "    </tr>\n",
       "  </tbody>\n",
       "</table>\n",
       "</div>"
      ],
      "text/plain": [
       "                  track_id                    title             song_id  \\\n",
       "4974    TRMQZZO128F92F83F5              Cicacicabum  SOCNJNA12AAF3B274E   \n",
       "63564   TRCWSAY128F429AFFB  My Own_ My Only_ My All  SOZYYWJ12A8C13B5B2   \n",
       "80377   TRRHLHU128F92F8415           Amor pide amor  SOLUCMF12AAF3B596E   \n",
       "99259   TRBZQRQ128F92F83D5                  Alegria  SOCGRXU12AAF3B534E   \n",
       "100058  TRBIEKG12903D01567   La feria de las flores  SOSBNZD12AC3DF573D   \n",
       "103029  TRBULUN128F92F8421                Felicidad  SORYQOP12AAF3B59A2   \n",
       "127311  TRQHPAQ128F92F8406               El sonador  SOLWETI12AAF3B5052   \n",
       "158118  TRIHWJD128F92F83E4                    Rubra  SOKVUMH12AAF3B26F5   \n",
       "200451  TRNVLBV128F92F83EC          Escuela de amor  SOQKVJJ12AAF3B271F   \n",
       "255808  TRLQKIL128F92F8429               Guitarrita  SOKFYQY12AAF3B59BF   \n",
       "274887  TRETYSU128F92F840F                 Abrazame  SOHLSPG12AAF3B507E   \n",
       "329879  TRDGPBC128F92F841B    Como es bella la vida  SODSVKW12AAF3B598B   \n",
       "381004  TRKZAXW128F92F842E         Buleria espanola  SOCWXHU12AAF3B59D4   \n",
       "\n",
       "                    release           artist_id  \\\n",
       "4974             El soneros  ARLYTLL122988F2B39   \n",
       "63564   Sings Songs Of Love  AR8LR0X1187FB4CCB7   \n",
       "80377            El soneros  ARLYTLL122988F2B39   \n",
       "99259            El soneros  ARLYTLL122988F2B39   \n",
       "100058        Jorge Negrete  ARORILY12420781766   \n",
       "103029           El soneros  ARLYTLL122988F2B39   \n",
       "127311           El soneros  ARLYTLL122988F2B39   \n",
       "158118           El soneros  ARLYTLL122988F2B39   \n",
       "200451           El soneros  ARLYTLL122988F2B39   \n",
       "255808           El soneros  ARLYTLL122988F2B39   \n",
       "274887           El soneros  ARLYTLL122988F2B39   \n",
       "329879           El soneros  ARLYTLL122988F2B39   \n",
       "381004           El soneros  ARLYTLL122988F2B39   \n",
       "\n",
       "                                 artist_mbid       artist_name   duration  \\\n",
       "4974                                          Juan Carlos Vega  203.83302   \n",
       "63564   06780d05-0b54-44a4-9fde-1307d5f9ced6      Monica Lewis  164.54485   \n",
       "80377                                         Juan Carlos Vega  178.75546   \n",
       "99259                                         Juan Carlos Vega  174.88934   \n",
       "100058                                           Jorge Negrete  170.31791   \n",
       "103029                                        Juan Carlos Vega  245.15873   \n",
       "127311                                        Juan Carlos Vega  186.35710   \n",
       "158118                                        Juan Carlos Vega  186.69669   \n",
       "200451                                        Juan Carlos Vega  227.78730   \n",
       "255808                                        Juan Carlos Vega  168.61995   \n",
       "274887                                        Juan Carlos Vega  181.08036   \n",
       "329879                                        Juan Carlos Vega  196.20526   \n",
       "381004                                        Juan Carlos Vega  358.97424   \n",
       "\n",
       "        artist_familiarity  artist_hotttnesss  year  genre  \n",
       "4974                  -1.0                0.0     0  Latin  \n",
       "63564                 -1.0                0.0     0  Vocal  \n",
       "80377                 -1.0                0.0     0  Latin  \n",
       "99259                 -1.0                0.0     0  Latin  \n",
       "100058                -1.0                0.0     0  Latin  \n",
       "103029                -1.0                0.0     0  Latin  \n",
       "127311                -1.0                0.0     0  Latin  \n",
       "158118                -1.0                0.0     0  Latin  \n",
       "200451                -1.0                0.0     0  Latin  \n",
       "255808                -1.0                0.0     0  Latin  \n",
       "274887                -1.0                0.0     0  Latin  \n",
       "329879                -1.0                0.0     0  Latin  \n",
       "381004                -1.0                0.0     0  Latin  "
      ]
     },
     "execution_count": 15,
     "metadata": {},
     "output_type": "execute_result"
    }
   ],
   "source": [
    "songs_w_genre_clean2[songs_w_genre_clean2['artist_familiarity']<0]"
   ]
  },
  {
   "cell_type": "code",
   "execution_count": 16,
   "metadata": {},
   "outputs": [
    {
     "data": {
      "text/html": [
       "<div>\n",
       "<style>\n",
       "    .dataframe thead tr:only-child th {\n",
       "        text-align: right;\n",
       "    }\n",
       "\n",
       "    .dataframe thead th {\n",
       "        text-align: left;\n",
       "    }\n",
       "\n",
       "    .dataframe tbody tr th {\n",
       "        vertical-align: top;\n",
       "    }\n",
       "</style>\n",
       "<table border=\"1\" class=\"dataframe\">\n",
       "  <thead>\n",
       "    <tr style=\"text-align: right;\">\n",
       "      <th></th>\n",
       "      <th>track_id</th>\n",
       "      <th>title</th>\n",
       "      <th>song_id</th>\n",
       "      <th>release</th>\n",
       "      <th>artist_id</th>\n",
       "      <th>artist_mbid</th>\n",
       "      <th>artist_name</th>\n",
       "      <th>duration</th>\n",
       "      <th>artist_familiarity</th>\n",
       "      <th>artist_hotttnesss</th>\n",
       "      <th>year</th>\n",
       "      <th>genre</th>\n",
       "    </tr>\n",
       "  </thead>\n",
       "  <tbody>\n",
       "    <tr>\n",
       "      <th>10866</th>\n",
       "      <td>TRMEKOI128F9308BAE</td>\n",
       "      <td>Malta</td>\n",
       "      <td>SOFQLYJ12AB01812F9</td>\n",
       "      <td>Directions</td>\n",
       "      <td>ARYGMNK1187B998FFE</td>\n",
       "      <td>84c27b03-1325-40c3-bb68-6b0cb820e1e4</td>\n",
       "      <td>Directions</td>\n",
       "      <td>296.41098</td>\n",
       "      <td>0.479841</td>\n",
       "      <td>-1.0</td>\n",
       "      <td>0</td>\n",
       "      <td>Pop_Rock</td>\n",
       "    </tr>\n",
       "    <tr>\n",
       "      <th>110718</th>\n",
       "      <td>TRFGBHF128F9308BA6</td>\n",
       "      <td>Our Portrait</td>\n",
       "      <td>SOKZMLJ12AB01812D7</td>\n",
       "      <td>Directions</td>\n",
       "      <td>ARYGMNK1187B998FFE</td>\n",
       "      <td>84c27b03-1325-40c3-bb68-6b0cb820e1e4</td>\n",
       "      <td>Directions</td>\n",
       "      <td>269.60934</td>\n",
       "      <td>0.479841</td>\n",
       "      <td>-1.0</td>\n",
       "      <td>0</td>\n",
       "      <td>Pop_Rock</td>\n",
       "    </tr>\n",
       "    <tr>\n",
       "      <th>214930</th>\n",
       "      <td>TRPJAXD128F9308BB0</td>\n",
       "      <td>You Can Hear The Sound</td>\n",
       "      <td>SOMMJKC12AB01812FF</td>\n",
       "      <td>Directions</td>\n",
       "      <td>ARYGMNK1187B998FFE</td>\n",
       "      <td>84c27b03-1325-40c3-bb68-6b0cb820e1e4</td>\n",
       "      <td>Directions</td>\n",
       "      <td>322.08934</td>\n",
       "      <td>0.479841</td>\n",
       "      <td>-1.0</td>\n",
       "      <td>0</td>\n",
       "      <td>Pop_Rock</td>\n",
       "    </tr>\n",
       "    <tr>\n",
       "      <th>245248</th>\n",
       "      <td>TRUEZDG128F9308BA4</td>\n",
       "      <td>Cinq_ Rouge_ Impair</td>\n",
       "      <td>SOQTRPQ12AB01812CD</td>\n",
       "      <td>Directions</td>\n",
       "      <td>ARYGMNK1187B998FFE</td>\n",
       "      <td>84c27b03-1325-40c3-bb68-6b0cb820e1e4</td>\n",
       "      <td>Directions</td>\n",
       "      <td>349.57016</td>\n",
       "      <td>0.479841</td>\n",
       "      <td>-1.0</td>\n",
       "      <td>0</td>\n",
       "      <td>Pop_Rock</td>\n",
       "    </tr>\n",
       "    <tr>\n",
       "      <th>260058</th>\n",
       "      <td>TRLLWNY128F9308B9D</td>\n",
       "      <td>Talking About Sonny</td>\n",
       "      <td>SOLMWUS12AB01813B4</td>\n",
       "      <td>Directions</td>\n",
       "      <td>ARYGMNK1187B998FFE</td>\n",
       "      <td>84c27b03-1325-40c3-bb68-6b0cb820e1e4</td>\n",
       "      <td>Directions</td>\n",
       "      <td>332.32934</td>\n",
       "      <td>0.479841</td>\n",
       "      <td>-1.0</td>\n",
       "      <td>0</td>\n",
       "      <td>Pop_Rock</td>\n",
       "    </tr>\n",
       "    <tr>\n",
       "      <th>299150</th>\n",
       "      <td>TRSHIBE128F9308BAB</td>\n",
       "      <td>Who Loves Ya</td>\n",
       "      <td>SORXLGD12AB01812E9</td>\n",
       "      <td>Directions</td>\n",
       "      <td>ARYGMNK1187B998FFE</td>\n",
       "      <td>84c27b03-1325-40c3-bb68-6b0cb820e1e4</td>\n",
       "      <td>Directions</td>\n",
       "      <td>529.57995</td>\n",
       "      <td>0.479841</td>\n",
       "      <td>-1.0</td>\n",
       "      <td>0</td>\n",
       "      <td>Pop_Rock</td>\n",
       "    </tr>\n",
       "    <tr>\n",
       "      <th>302212</th>\n",
       "      <td>TRSQLLG128F9308B9E</td>\n",
       "      <td>Dummy Funk</td>\n",
       "      <td>SOMPYUO12AB01813B9</td>\n",
       "      <td>Directions</td>\n",
       "      <td>ARYGMNK1187B998FFE</td>\n",
       "      <td>84c27b03-1325-40c3-bb68-6b0cb820e1e4</td>\n",
       "      <td>Directions</td>\n",
       "      <td>397.08689</td>\n",
       "      <td>0.479841</td>\n",
       "      <td>-1.0</td>\n",
       "      <td>0</td>\n",
       "      <td>Pop_Rock</td>\n",
       "    </tr>\n",
       "    <tr>\n",
       "      <th>337164</th>\n",
       "      <td>TRDTZTB128F9308BA8</td>\n",
       "      <td>Bassix</td>\n",
       "      <td>SONOXGW12AB01812DA</td>\n",
       "      <td>Directions</td>\n",
       "      <td>ARYGMNK1187B998FFE</td>\n",
       "      <td>84c27b03-1325-40c3-bb68-6b0cb820e1e4</td>\n",
       "      <td>Directions</td>\n",
       "      <td>282.01751</td>\n",
       "      <td>0.479841</td>\n",
       "      <td>-1.0</td>\n",
       "      <td>0</td>\n",
       "      <td>Pop_Rock</td>\n",
       "    </tr>\n",
       "    <tr>\n",
       "      <th>360375</th>\n",
       "      <td>TRXMOCG128F9308BA1</td>\n",
       "      <td>Coconuts Girl</td>\n",
       "      <td>SOLUFGC12AB01812C1</td>\n",
       "      <td>Directions</td>\n",
       "      <td>ARYGMNK1187B998FFE</td>\n",
       "      <td>84c27b03-1325-40c3-bb68-6b0cb820e1e4</td>\n",
       "      <td>Directions</td>\n",
       "      <td>320.91383</td>\n",
       "      <td>0.479841</td>\n",
       "      <td>-1.0</td>\n",
       "      <td>0</td>\n",
       "      <td>Pop_Rock</td>\n",
       "    </tr>\n",
       "  </tbody>\n",
       "</table>\n",
       "</div>"
      ],
      "text/plain": [
       "                  track_id                   title             song_id  \\\n",
       "10866   TRMEKOI128F9308BAE                   Malta  SOFQLYJ12AB01812F9   \n",
       "110718  TRFGBHF128F9308BA6            Our Portrait  SOKZMLJ12AB01812D7   \n",
       "214930  TRPJAXD128F9308BB0  You Can Hear The Sound  SOMMJKC12AB01812FF   \n",
       "245248  TRUEZDG128F9308BA4     Cinq_ Rouge_ Impair  SOQTRPQ12AB01812CD   \n",
       "260058  TRLLWNY128F9308B9D     Talking About Sonny  SOLMWUS12AB01813B4   \n",
       "299150  TRSHIBE128F9308BAB            Who Loves Ya  SORXLGD12AB01812E9   \n",
       "302212  TRSQLLG128F9308B9E              Dummy Funk  SOMPYUO12AB01813B9   \n",
       "337164  TRDTZTB128F9308BA8                  Bassix  SONOXGW12AB01812DA   \n",
       "360375  TRXMOCG128F9308BA1           Coconuts Girl  SOLUFGC12AB01812C1   \n",
       "\n",
       "           release           artist_id                           artist_mbid  \\\n",
       "10866   Directions  ARYGMNK1187B998FFE  84c27b03-1325-40c3-bb68-6b0cb820e1e4   \n",
       "110718  Directions  ARYGMNK1187B998FFE  84c27b03-1325-40c3-bb68-6b0cb820e1e4   \n",
       "214930  Directions  ARYGMNK1187B998FFE  84c27b03-1325-40c3-bb68-6b0cb820e1e4   \n",
       "245248  Directions  ARYGMNK1187B998FFE  84c27b03-1325-40c3-bb68-6b0cb820e1e4   \n",
       "260058  Directions  ARYGMNK1187B998FFE  84c27b03-1325-40c3-bb68-6b0cb820e1e4   \n",
       "299150  Directions  ARYGMNK1187B998FFE  84c27b03-1325-40c3-bb68-6b0cb820e1e4   \n",
       "302212  Directions  ARYGMNK1187B998FFE  84c27b03-1325-40c3-bb68-6b0cb820e1e4   \n",
       "337164  Directions  ARYGMNK1187B998FFE  84c27b03-1325-40c3-bb68-6b0cb820e1e4   \n",
       "360375  Directions  ARYGMNK1187B998FFE  84c27b03-1325-40c3-bb68-6b0cb820e1e4   \n",
       "\n",
       "       artist_name   duration  artist_familiarity  artist_hotttnesss  year  \\\n",
       "10866   Directions  296.41098            0.479841               -1.0     0   \n",
       "110718  Directions  269.60934            0.479841               -1.0     0   \n",
       "214930  Directions  322.08934            0.479841               -1.0     0   \n",
       "245248  Directions  349.57016            0.479841               -1.0     0   \n",
       "260058  Directions  332.32934            0.479841               -1.0     0   \n",
       "299150  Directions  529.57995            0.479841               -1.0     0   \n",
       "302212  Directions  397.08689            0.479841               -1.0     0   \n",
       "337164  Directions  282.01751            0.479841               -1.0     0   \n",
       "360375  Directions  320.91383            0.479841               -1.0     0   \n",
       "\n",
       "           genre  \n",
       "10866   Pop_Rock  \n",
       "110718  Pop_Rock  \n",
       "214930  Pop_Rock  \n",
       "245248  Pop_Rock  \n",
       "260058  Pop_Rock  \n",
       "299150  Pop_Rock  \n",
       "302212  Pop_Rock  \n",
       "337164  Pop_Rock  \n",
       "360375  Pop_Rock  "
      ]
     },
     "execution_count": 16,
     "metadata": {},
     "output_type": "execute_result"
    }
   ],
   "source": [
    "songs_w_genre_clean[songs_w_genre_clean['artist_hotttnesss']<0]"
   ]
  },
  {
   "cell_type": "code",
   "execution_count": 17,
   "metadata": {},
   "outputs": [
    {
     "name": "stdout",
     "output_type": "stream",
     "text": [
      "Shape with -1s dropped:  (404669, 12)\n"
     ]
    }
   ],
   "source": [
    "songs_w_genre_clean2 = songs_w_genre_clean2[songs_w_genre_clean2['artist_familiarity'] >= 0]\n",
    "songs_w_genre_clean2 = songs_w_genre_clean2[songs_w_genre_clean2['artist_hotttnesss'] >= 0]\n",
    "print(\"Shape with -1s dropped: \",songs_w_genre_clean2.shape)"
   ]
  },
  {
   "cell_type": "markdown",
   "metadata": {},
   "source": [
    "# 3. Feature Engineering"
   ]
  },
  {
   "cell_type": "code",
   "execution_count": 18,
   "metadata": {},
   "outputs": [],
   "source": [
    "songs_w_genre_clean2['artist_length'] = songs_w_genre_clean2['artist_name'].str.len()\n",
    "songs_w_genre_clean2['title_length'] = songs_w_genre_clean2['title'].str.len()\n",
    "songs_w_genre_clean2['release_length'] = songs_w_genre_clean2['release'].str.len()"
   ]
  },
  {
   "cell_type": "markdown",
   "metadata": {},
   "source": [
    "# 4. Exploratory Analysis"
   ]
  },
  {
   "cell_type": "markdown",
   "metadata": {},
   "source": [
    "Group data by artist for the purpose of predicting an artist's genre"
   ]
  },
  {
   "cell_type": "code",
   "execution_count": 19,
   "metadata": {},
   "outputs": [],
   "source": [
    "artist_genres = pd.DataFrame(songs_w_genre_clean2.groupby('artist_name')['genre'].\n",
    "                             agg(lambda x: x.value_counts().index[0]).reset_index())"
   ]
  },
  {
   "cell_type": "code",
   "execution_count": 20,
   "metadata": {},
   "outputs": [],
   "source": [
    "artist_features = pd.DataFrame(songs_w_genre_clean2.groupby('artist_name').\n",
    "                               agg({'duration':'median','artist_familiarity':'mean','artist_hotttnesss':'mean',\n",
    "                                    'artist_length':'mean','title_length':'mean','release_length':'mean'}).\n",
    "                               reset_index())"
   ]
  },
  {
   "cell_type": "code",
   "execution_count": 21,
   "metadata": {},
   "outputs": [
    {
     "name": "stdout",
     "output_type": "stream",
     "text": [
      "Merged data shape:  (22612, 8)\n",
      "Merged data columns:  Index(['artist_name', 'duration', 'artist_familiarity', 'artist_hotttnesss',\n",
      "       'artist_length', 'title_length', 'release_length', 'genre'],\n",
      "      dtype='object')\n"
     ]
    }
   ],
   "source": [
    "artist_data = artist_features.merge(artist_genres, on='artist_name', how='inner')\n",
    "\n",
    "print(\"Merged data shape: \", artist_data.shape)\n",
    "print(\"Merged data columns: \", artist_data.columns)"
   ]
  },
  {
   "cell_type": "code",
   "execution_count": 22,
   "metadata": {},
   "outputs": [
    {
     "data": {
      "text/plain": [
       "<matplotlib.text.Text at 0x10362470>"
      ]
     },
     "execution_count": 22,
     "metadata": {},
     "output_type": "execute_result"
    },
    {
     "data": {
      "image/png": "[encoded data removed]",
      "text/plain": [
       "<matplotlib.figure.Figure at 0xf824dd8>"
      ]
     },
     "metadata": {},
     "output_type": "display_data"
    }
   ],
   "source": [
    "sns.heatmap(artist_data.corr()) # plot the heatmap\n",
    "plt.title('Correlations between features')"
   ]
  },
  {
   "cell_type": "code",
   "execution_count": 23,
   "metadata": {},
   "outputs": [
    {
     "data": {
      "text/plain": [
       "<matplotlib.text.Text at 0x111d7e10>"
      ]
     },
     "execution_count": 23,
     "metadata": {},
     "output_type": "execute_result"
    },
    {
     "data": {
      "image/png": "[encoded data removed]",
      "text/plain": [
       "<matplotlib.figure.Figure at 0x10285208>"
      ]
     },
     "metadata": {},
     "output_type": "display_data"
    }
   ],
   "source": [
    "ranks = artist_data.groupby('genre')['duration'].median().fillna(0).sort_values()[::-1].index\n",
    "sns.factorplot(kind='box', y='duration', x='genre', data=artist_data, size=8, aspect=1.5, order = ranks)\n",
    "plt.title('Avg Artist Song Duration by Genre')"
   ]
  },
  {
   "cell_type": "code",
   "execution_count": 24,
   "metadata": {},
   "outputs": [
    {
     "data": {
      "text/plain": [
       "<matplotlib.text.Text at 0x11bf7908>"
      ]
     },
     "execution_count": 24,
     "metadata": {},
     "output_type": "execute_result"
    },
    {
     "data": {
      "image/png": "[encoded data removed]",
      "text/plain": [
       "<matplotlib.figure.Figure at 0x131069e8>"
      ]
     },
     "metadata": {},
     "output_type": "display_data"
    }
   ],
   "source": [
    "ranks = artist_data.groupby('genre')['artist_familiarity'].median().fillna(0).sort_values()[::-1].index\n",
    "sns.factorplot(kind='box', y='artist_familiarity', x='genre', data=artist_data, size=8, aspect=1.5, order = ranks)\n",
    "plt.title('Artist Familiarity by Genre')"
   ]
  },
  {
   "cell_type": "code",
   "execution_count": 25,
   "metadata": {},
   "outputs": [
    {
     "data": {
      "text/plain": [
       "<matplotlib.text.Text at 0x148012e8>"
      ]
     },
     "execution_count": 25,
     "metadata": {},
     "output_type": "execute_result"
    },
    {
     "data": {
      "image/png": "[encoded data removed]",
      "text/plain": [
       "<matplotlib.figure.Figure at 0x14d1f080>"
      ]
     },
     "metadata": {},
     "output_type": "display_data"
    }
   ],
   "source": [
    "ranks = artist_data.groupby('genre')['artist_hotttnesss'].median().fillna(0).sort_values()[::-1].index\n",
    "sns.factorplot(kind='box', y='artist_hotttnesss', x='genre', data=artist_data, size=8, aspect=1.5, order = ranks)\n",
    "plt.title('Artist Hotness by Genre')"
   ]
  },
  {
   "cell_type": "code",
   "execution_count": 26,
   "metadata": {},
   "outputs": [
    {
     "data": {
      "text/plain": [
       "<matplotlib.text.Text at 0x1564c860>"
      ]
     },
     "execution_count": 26,
     "metadata": {},
     "output_type": "execute_result"
    },
    {
     "data": {
      "image/png": "[encoded data removed]",
      "text/plain": [
       "<matplotlib.figure.Figure at 0x16c7ba90>"
      ]
     },
     "metadata": {},
     "output_type": "display_data"
    }
   ],
   "source": [
    "ranks = artist_data.groupby('genre')['artist_length'].median().fillna(0).sort_values()[::-1].index\n",
    "sns.factorplot(kind='box', y='artist_length', x='genre', data=artist_data, size=8, aspect=1.5, order = ranks)\n",
    "plt.title('Artist Name Length by Genre')"
   ]
  },
  {
   "cell_type": "code",
   "execution_count": 27,
   "metadata": {},
   "outputs": [
    {
     "data": {
      "text/plain": [
       "<matplotlib.text.Text at 0x18458438>"
      ]
     },
     "execution_count": 27,
     "metadata": {},
     "output_type": "execute_result"
    },
    {
     "data": {
      "image/png": "[encoded data removed]",
      "text/plain": [
       "<matplotlib.figure.Figure at 0x18e66ef0>"
      ]
     },
     "metadata": {},
     "output_type": "display_data"
    }
   ],
   "source": [
    "ranks = artist_data.groupby('genre')['title_length'].median().fillna(0).sort_values()[::-1].index\n",
    "sns.factorplot(kind='box', y='title_length', x='genre', data=artist_data, size=8, aspect=1.5, order = ranks)\n",
    "plt.title('Avg Artist Song Title Length by Genre')"
   ]
  },
  {
   "cell_type": "code",
   "execution_count": 28,
   "metadata": {},
   "outputs": [
    {
     "data": {
      "text/plain": [
       "<matplotlib.text.Text at 0x19e01c18>"
      ]
     },
     "execution_count": 28,
     "metadata": {},
     "output_type": "execute_result"
    },
    {
     "data": {
      "image/png": "[encoded data removed]",
      "text/plain": [
       "<matplotlib.figure.Figure at 0x1abf4c50>"
      ]
     },
     "metadata": {},
     "output_type": "display_data"
    }
   ],
   "source": [
    "ranks = artist_data.groupby('genre')['release_length'].median().fillna(0).sort_values()[::-1].index\n",
    "sns.factorplot(kind='box', y='release_length', x='genre', data=artist_data, size=8, aspect=1.5, order = ranks)\n",
    "plt.title('Avg Artist Album Name Length by Genre')"
   ]
  },
  {
   "cell_type": "markdown",
   "metadata": {},
   "source": [
    "# 5. Model to predict an artist's genre"
   ]
  },
  {
   "cell_type": "markdown",
   "metadata": {},
   "source": [
    "There aren't many features, but there are a lot of genres, so let's simplify by trying to predict whether an artist's genre is pop rock or not."
   ]
  },
  {
   "cell_type": "code",
   "execution_count": 29,
   "metadata": {},
   "outputs": [],
   "source": [
    "artist_data['genre_elect'] = pd.DataFrame(artist_data['genre'] == 'Pop_Rock')\n",
    "artist_data['genre_elect'].replace({True:'Pop_Rock',False:'Not Pop_Rock'}, inplace = True)"
   ]
  },
  {
   "cell_type": "markdown",
   "metadata": {},
   "source": [
    "Get null accuracy"
   ]
  },
  {
   "cell_type": "code",
   "execution_count": 30,
   "metadata": {},
   "outputs": [
    {
     "data": {
      "text/plain": [
       "Pop_Rock        0.543517\n",
       "Not Pop_Rock    0.456483\n",
       "Name: genre_elect, dtype: float64"
      ]
     },
     "execution_count": 30,
     "metadata": {},
     "output_type": "execute_result"
    }
   ],
   "source": [
    "artist_data['genre_elect'].value_counts(normalize=True)"
   ]
  },
  {
   "cell_type": "markdown",
   "metadata": {},
   "source": [
    "Define X and Y for modeling"
   ]
  },
  {
   "cell_type": "code",
   "execution_count": 31,
   "metadata": {},
   "outputs": [],
   "source": [
    "song_features = ['duration','artist_familiarity','artist_hotttnesss','artist_length','title_length','release_length']\n",
    "X = artist_data[song_features]\n",
    "y = artist_data['genre_elect']"
   ]
  },
  {
   "cell_type": "markdown",
   "metadata": {},
   "source": [
    "Train-Test Split"
   ]
  },
  {
   "cell_type": "code",
   "execution_count": 32,
   "metadata": {
    "collapsed": true
   },
   "outputs": [],
   "source": [
    "X_train,X_test,y_train,y_test = train_test_split(X,y,test_size=0.3)"
   ]
  },
  {
   "cell_type": "markdown",
   "metadata": {},
   "source": [
    "Run Random Forest Classifier model"
   ]
  },
  {
   "cell_type": "code",
   "execution_count": 39,
   "metadata": {},
   "outputs": [
    {
     "name": "stdout",
     "output_type": "stream",
     "text": [
      "Test set accuracy:  0.622346698113\n",
      "Test set metrics:\n",
      "               precision    recall  f1-score   support\n",
      "\n",
      "Not Pop_Rock       0.59      0.55      0.57      3093\n",
      "    Pop_Rock       0.65      0.68      0.66      3691\n",
      "\n",
      " avg / total       0.62      0.62      0.62      6784\n",
      "\n"
     ]
    }
   ],
   "source": [
    "rf = RandomForestClassifier(n_estimators=30)\n",
    "rf.fit(X_train, y_train)\n",
    "y_preds = rf.predict(X_test)\n",
    "print(\"Test set accuracy: \", metrics.accuracy_score(y_test, y_preds))\n",
    "print(\"Test set metrics:\\n\",metrics.classification_report(y_test,y_preds))"
   ]
  },
  {
   "cell_type": "code",
   "execution_count": 40,
   "metadata": {},
   "outputs": [
    {
     "data": {
      "image/png": "[encoded data removed]",
      "text/plain": [
       "<matplotlib.figure.Figure at 0x2787898>"
      ]
     },
     "metadata": {},
     "output_type": "display_data"
    }
   ],
   "source": [
    "visualizer = ClassificationReport(rf) # Instantiate the visualizer\n",
    "visualizer.fit(X_train, y_train)  # Fit the training data to the visualizer\n",
    "visualizer.score(X_test, y_test)  # Evaluate the model on the test data\n",
    "g = visualizer.poof()             # Draw/show/poof the data"
   ]
  },
  {
   "cell_type": "markdown",
   "metadata": {},
   "source": [
    "Random forest was only mildly successful at predicting whether an artist's genre is Pop Rock or not (62% accuracy vs 54% null accuracy). I need to add additional features to my model to increase its accuracy. However, we can learn about the relative feature importances from the random forest model:"
   ]
  },
  {
   "cell_type": "code",
   "execution_count": 41,
   "metadata": {},
   "outputs": [
    {
     "data": {
      "text/html": [
       "<div>\n",
       "<style>\n",
       "    .dataframe thead tr:only-child th {\n",
       "        text-align: right;\n",
       "    }\n",
       "\n",
       "    .dataframe thead th {\n",
       "        text-align: left;\n",
       "    }\n",
       "\n",
       "    .dataframe tbody tr th {\n",
       "        vertical-align: top;\n",
       "    }\n",
       "</style>\n",
       "<table border=\"1\" class=\"dataframe\">\n",
       "  <thead>\n",
       "    <tr style=\"text-align: right;\">\n",
       "      <th></th>\n",
       "      <th>feature</th>\n",
       "      <th>importance</th>\n",
       "    </tr>\n",
       "  </thead>\n",
       "  <tbody>\n",
       "    <tr>\n",
       "      <th>0</th>\n",
       "      <td>duration</td>\n",
       "      <td>0.239050</td>\n",
       "    </tr>\n",
       "    <tr>\n",
       "      <th>1</th>\n",
       "      <td>artist_familiarity</td>\n",
       "      <td>0.176613</td>\n",
       "    </tr>\n",
       "    <tr>\n",
       "      <th>4</th>\n",
       "      <td>title_length</td>\n",
       "      <td>0.170976</td>\n",
       "    </tr>\n",
       "    <tr>\n",
       "      <th>2</th>\n",
       "      <td>artist_hotttnesss</td>\n",
       "      <td>0.166703</td>\n",
       "    </tr>\n",
       "    <tr>\n",
       "      <th>5</th>\n",
       "      <td>release_length</td>\n",
       "      <td>0.147983</td>\n",
       "    </tr>\n",
       "    <tr>\n",
       "      <th>3</th>\n",
       "      <td>artist_length</td>\n",
       "      <td>0.098676</td>\n",
       "    </tr>\n",
       "  </tbody>\n",
       "</table>\n",
       "</div>"
      ],
      "text/plain": [
       "              feature  importance\n",
       "0            duration    0.239050\n",
       "1  artist_familiarity    0.176613\n",
       "4        title_length    0.170976\n",
       "2   artist_hotttnesss    0.166703\n",
       "5      release_length    0.147983\n",
       "3       artist_length    0.098676"
      ]
     },
     "execution_count": 41,
     "metadata": {},
     "output_type": "execute_result"
    }
   ],
   "source": [
    "pd.DataFrame({'feature':song_features, 'importance':rf.feature_importances_}).sort_values(by='importance',ascending=False)"
   ]
  },
  {
   "cell_type": "markdown",
   "metadata": {
    "collapsed": true
   },
   "source": [
    "# 6. Visualization of distance between genres"
   ]
  },
  {
   "cell_type": "markdown",
   "metadata": {},
   "source": [
    "We can visualize the distance between genres by graphing the genre's feature averages, scaling, and reducing to 2D using PCA."
   ]
  },
  {
   "cell_type": "code",
   "execution_count": 42,
   "metadata": {
    "collapsed": true
   },
   "outputs": [],
   "source": [
    "genre_stats = pd.DataFrame(artist_data.groupby('genre').\n",
    "                           agg({'duration':'median','artist_familiarity':'mean','artist_hotttnesss':'mean',\n",
    "                                'artist_length':'mean','title_length':'mean','release_length':'mean'}).reset_index())"
   ]
  },
  {
   "cell_type": "code",
   "execution_count": 43,
   "metadata": {},
   "outputs": [],
   "source": [
    "genre_stats_x = genre_stats.drop('genre', axis=1)"
   ]
  },
  {
   "cell_type": "code",
   "execution_count": 44,
   "metadata": {
    "collapsed": true
   },
   "outputs": [],
   "source": [
    "scaler = StandardScaler() #create a scaler object\n",
    "scaler.fit(genre_stats_x) #fit the scaler\n",
    "genre_stats_x_scaled = scaler.transform(genre_stats_x) #transform the training data with it"
   ]
  },
  {
   "cell_type": "code",
   "execution_count": 47,
   "metadata": {},
   "outputs": [
    {
     "data": {
      "image/png": "[encoded data removed]",
      "text/plain": [
       "<matplotlib.figure.Figure at 0x169ebe80>"
      ]
     },
     "metadata": {},
     "output_type": "display_data"
    }
   ],
   "source": [
    "#plotting the clusters using PCA to get a 2D graph\n",
    "pca = PCA(n_components=2) #2-dimensional PCA\n",
    "y_pca = pd.DataFrame(pca.fit_transform(genre_stats_x_scaled))\n",
    "\n",
    "#first we need to map colors on labels\n",
    "dfcolor = pd.DataFrame([['Pop_Rock','maroon'],['Electronic','pink'],['Rap','orange'],['Jazz','cyan'],\n",
    "                        ['Latin','magenta'],['RnB','turquoise'],['International','black'],['Country','olive'],\n",
    "                        ['Reggae','gold'],['Blues','brown'],['Vocal','grey'],['Folk','lightblue'],['New Age','navy']],\n",
    "                       columns=['genre','color'])\n",
    "mergeddf = pd.merge(genre_stats,dfcolor,on='genre')\n",
    "\n",
    "#then we do the graph\n",
    "plt.scatter(y_pca[0],y_pca[1],color=mergeddf['color'])\n",
    "\n",
    "#add labels\n",
    "for label, x, y in zip(mergeddf['genre'], y_pca[0], y_pca[1]):\n",
    "    plt.annotate(\n",
    "        label,\n",
    "        xy=(x, y), xytext=(-30, 7),\n",
    "        textcoords= 'offset points')\n",
    "\n",
    "plt.title('2D Mapping of Distances between Music Genres')    \n",
    "plt.show()"
   ]
  },
  {
   "cell_type": "markdown",
   "metadata": {},
   "source": [
    "# 7. Chord diagram based on number of common listeners between genres"
   ]
  },
  {
   "cell_type": "markdown",
   "metadata": {},
   "source": [
    "Get user data"
   ]
  },
  {
   "cell_type": "code",
   "execution_count": 48,
   "metadata": {},
   "outputs": [
    {
     "name": "stdout",
     "output_type": "stream",
     "text": [
      "User data shape (1450933, 3)\n"
     ]
    }
   ],
   "source": [
    "cols = ['user_id','song_id','play_count']\n",
    "user_data = pd.read_csv('User Data/kaggle_visible_evaluation_triplets.txt', sep = '\\t', header=None, names=cols)\n",
    "\n",
    "print('User data shape', user_data.shape)"
   ]
  },
  {
   "cell_type": "markdown",
   "metadata": {},
   "source": [
    "Merge with track_id"
   ]
  },
  {
   "cell_type": "code",
   "execution_count": 49,
   "metadata": {},
   "outputs": [
    {
     "name": "stdout",
     "output_type": "stream",
     "text": [
      "User data w track id shape: (1491952, 13)\n"
     ]
    }
   ],
   "source": [
    "user_data_w_track_id = user_data.merge(songs, on='song_id', how='inner')\n",
    "\n",
    "print('User data w track id shape:', user_data_w_track_id.shape)"
   ]
  },
  {
   "cell_type": "markdown",
   "metadata": {},
   "source": [
    "Merge with genre"
   ]
  },
  {
   "cell_type": "code",
   "execution_count": 50,
   "metadata": {},
   "outputs": [
    {
     "name": "stdout",
     "output_type": "stream",
     "text": [
      "User data w genre shape:  (732777, 14)\n"
     ]
    }
   ],
   "source": [
    "user_data_w_genre = user_data_w_track_id.merge(genres, on='track_id', how='inner')\n",
    "\n",
    "print('User data w genre shape: ', user_data_w_genre.shape)"
   ]
  },
  {
   "cell_type": "code",
   "execution_count": 51,
   "metadata": {},
   "outputs": [],
   "source": [
    "clean_user_data_w_genre = user_data_w_genre[['user_id','play_count','genre']]"
   ]
  },
  {
   "cell_type": "markdown",
   "metadata": {},
   "source": [
    "Calculate user-genre pairs, considering a pair to be any genre which comprises at least 20% of the user's listening"
   ]
  },
  {
   "cell_type": "code",
   "execution_count": 53,
   "metadata": {},
   "outputs": [
    {
     "name": "stdout",
     "output_type": "stream",
     "text": [
      "Collapsed user data shape:  (229040, 1)\n"
     ]
    }
   ],
   "source": [
    "collapsed_user_data = pd.DataFrame(clean_user_data_w_genre.groupby(['user_id','genre'])['play_count'].sum())\n",
    "print('Collapsed user data shape: ', collapsed_user_data.shape)"
   ]
  },
  {
   "cell_type": "code",
   "execution_count": 54,
   "metadata": {
    "collapsed": true
   },
   "outputs": [],
   "source": [
    "collapsed_user_pcts = pd.DataFrame(collapsed_user_data.groupby(level=0).apply(lambda x: 100 * x / float(x.sum())).reset_index())"
   ]
  },
  {
   "cell_type": "code",
   "execution_count": 55,
   "metadata": {},
   "outputs": [],
   "source": [
    "collapsed_user_20_pct = collapsed_user_pcts[collapsed_user_pcts['play_count']>20]"
   ]
  },
  {
   "cell_type": "code",
   "execution_count": 56,
   "metadata": {},
   "outputs": [
    {
     "name": "stderr",
     "output_type": "stream",
     "text": [
      "C:\\Users\\azimmermann\\AppData\\Local\\Continuum\\Anaconda3\\lib\\site-packages\\ipykernel_launcher.py:1: SettingWithCopyWarning: \n",
      "A value is trying to be set on a copy of a slice from a DataFrame.\n",
      "Try using .loc[row_indexer,col_indexer] = value instead\n",
      "\n",
      "See the caveats in the documentation: http://pandas.pydata.org/pandas-docs/stable/indexing.html#indexing-view-versus-copy\n",
      "  \"\"\"Entry point for launching an IPython kernel.\n"
     ]
    }
   ],
   "source": [
    "collapsed_user_20_pct['play_count'] = 1"
   ]
  },
  {
   "cell_type": "markdown",
   "metadata": {},
   "source": [
    "Calculate number of connections between genres"
   ]
  },
  {
   "cell_type": "code",
   "execution_count": 57,
   "metadata": {},
   "outputs": [
    {
     "data": {
      "text/html": [
       "<div>\n",
       "<style>\n",
       "    .dataframe thead tr:only-child th {\n",
       "        text-align: right;\n",
       "    }\n",
       "\n",
       "    .dataframe thead th {\n",
       "        text-align: left;\n",
       "    }\n",
       "\n",
       "    .dataframe tbody tr th {\n",
       "        vertical-align: top;\n",
       "    }\n",
       "</style>\n",
       "<table border=\"1\" class=\"dataframe\">\n",
       "  <thead>\n",
       "    <tr style=\"text-align: right;\">\n",
       "      <th>genre</th>\n",
       "      <th>Blues</th>\n",
       "      <th>Country</th>\n",
       "      <th>Electronic</th>\n",
       "      <th>Folk</th>\n",
       "      <th>International</th>\n",
       "      <th>Jazz</th>\n",
       "      <th>Latin</th>\n",
       "      <th>New Age</th>\n",
       "      <th>Pop_Rock</th>\n",
       "      <th>Rap</th>\n",
       "      <th>Reggae</th>\n",
       "      <th>RnB</th>\n",
       "      <th>Vocal</th>\n",
       "    </tr>\n",
       "    <tr>\n",
       "      <th>user_id</th>\n",
       "      <th></th>\n",
       "      <th></th>\n",
       "      <th></th>\n",
       "      <th></th>\n",
       "      <th></th>\n",
       "      <th></th>\n",
       "      <th></th>\n",
       "      <th></th>\n",
       "      <th></th>\n",
       "      <th></th>\n",
       "      <th></th>\n",
       "      <th></th>\n",
       "      <th></th>\n",
       "    </tr>\n",
       "  </thead>\n",
       "  <tbody>\n",
       "    <tr>\n",
       "      <th>00007a02388c208ea7176479f6ae06f8224355b3</th>\n",
       "      <td>NaN</td>\n",
       "      <td>NaN</td>\n",
       "      <td>NaN</td>\n",
       "      <td>NaN</td>\n",
       "      <td>NaN</td>\n",
       "      <td>NaN</td>\n",
       "      <td>NaN</td>\n",
       "      <td>NaN</td>\n",
       "      <td>1.0</td>\n",
       "      <td>NaN</td>\n",
       "      <td>NaN</td>\n",
       "      <td>NaN</td>\n",
       "      <td>NaN</td>\n",
       "    </tr>\n",
       "    <tr>\n",
       "      <th>00014a76ed063e1a749171a253bca9d9a0ff1782</th>\n",
       "      <td>NaN</td>\n",
       "      <td>NaN</td>\n",
       "      <td>NaN</td>\n",
       "      <td>NaN</td>\n",
       "      <td>NaN</td>\n",
       "      <td>NaN</td>\n",
       "      <td>NaN</td>\n",
       "      <td>NaN</td>\n",
       "      <td>1.0</td>\n",
       "      <td>NaN</td>\n",
       "      <td>NaN</td>\n",
       "      <td>NaN</td>\n",
       "      <td>NaN</td>\n",
       "    </tr>\n",
       "    <tr>\n",
       "      <th>00015189668691680bb1a2e58afde1541ec92ced</th>\n",
       "      <td>NaN</td>\n",
       "      <td>NaN</td>\n",
       "      <td>NaN</td>\n",
       "      <td>NaN</td>\n",
       "      <td>NaN</td>\n",
       "      <td>NaN</td>\n",
       "      <td>NaN</td>\n",
       "      <td>NaN</td>\n",
       "      <td>1.0</td>\n",
       "      <td>NaN</td>\n",
       "      <td>NaN</td>\n",
       "      <td>NaN</td>\n",
       "      <td>NaN</td>\n",
       "    </tr>\n",
       "    <tr>\n",
       "      <th>0001ff7aa2667c8d8b945317b88adaed1c0b9dc2</th>\n",
       "      <td>NaN</td>\n",
       "      <td>NaN</td>\n",
       "      <td>NaN</td>\n",
       "      <td>NaN</td>\n",
       "      <td>NaN</td>\n",
       "      <td>NaN</td>\n",
       "      <td>NaN</td>\n",
       "      <td>NaN</td>\n",
       "      <td>NaN</td>\n",
       "      <td>1.0</td>\n",
       "      <td>NaN</td>\n",
       "      <td>NaN</td>\n",
       "      <td>NaN</td>\n",
       "    </tr>\n",
       "    <tr>\n",
       "      <th>00020fcd8b01986a6a85b896ccde6c49f35142ad</th>\n",
       "      <td>NaN</td>\n",
       "      <td>NaN</td>\n",
       "      <td>1.0</td>\n",
       "      <td>NaN</td>\n",
       "      <td>NaN</td>\n",
       "      <td>NaN</td>\n",
       "      <td>NaN</td>\n",
       "      <td>NaN</td>\n",
       "      <td>1.0</td>\n",
       "      <td>NaN</td>\n",
       "      <td>NaN</td>\n",
       "      <td>NaN</td>\n",
       "      <td>NaN</td>\n",
       "    </tr>\n",
       "  </tbody>\n",
       "</table>\n",
       "</div>"
      ],
      "text/plain": [
       "genre                                     Blues  Country  Electronic  Folk  \\\n",
       "user_id                                                                      \n",
       "00007a02388c208ea7176479f6ae06f8224355b3    NaN      NaN         NaN   NaN   \n",
       "00014a76ed063e1a749171a253bca9d9a0ff1782    NaN      NaN         NaN   NaN   \n",
       "00015189668691680bb1a2e58afde1541ec92ced    NaN      NaN         NaN   NaN   \n",
       "0001ff7aa2667c8d8b945317b88adaed1c0b9dc2    NaN      NaN         NaN   NaN   \n",
       "00020fcd8b01986a6a85b896ccde6c49f35142ad    NaN      NaN         1.0   NaN   \n",
       "\n",
       "genre                                     International  Jazz  Latin  New Age  \\\n",
       "user_id                                                                         \n",
       "00007a02388c208ea7176479f6ae06f8224355b3            NaN   NaN    NaN      NaN   \n",
       "00014a76ed063e1a749171a253bca9d9a0ff1782            NaN   NaN    NaN      NaN   \n",
       "00015189668691680bb1a2e58afde1541ec92ced            NaN   NaN    NaN      NaN   \n",
       "0001ff7aa2667c8d8b945317b88adaed1c0b9dc2            NaN   NaN    NaN      NaN   \n",
       "00020fcd8b01986a6a85b896ccde6c49f35142ad            NaN   NaN    NaN      NaN   \n",
       "\n",
       "genre                                     Pop_Rock  Rap  Reggae  RnB  Vocal  \n",
       "user_id                                                                      \n",
       "00007a02388c208ea7176479f6ae06f8224355b3       1.0  NaN     NaN  NaN    NaN  \n",
       "00014a76ed063e1a749171a253bca9d9a0ff1782       1.0  NaN     NaN  NaN    NaN  \n",
       "00015189668691680bb1a2e58afde1541ec92ced       1.0  NaN     NaN  NaN    NaN  \n",
       "0001ff7aa2667c8d8b945317b88adaed1c0b9dc2       NaN  1.0     NaN  NaN    NaN  \n",
       "00020fcd8b01986a6a85b896ccde6c49f35142ad       1.0  NaN     NaN  NaN    NaN  "
      ]
     },
     "execution_count": 57,
     "metadata": {},
     "output_type": "execute_result"
    }
   ],
   "source": [
    "user_pivot = collapsed_user_20_pct.pivot(index='user_id', columns='genre', values='play_count')\n",
    "user_pivot.head()"
   ]
  },
  {
   "cell_type": "code",
   "execution_count": 58,
   "metadata": {},
   "outputs": [],
   "source": [
    "user_pivot['missing'] = user_pivot.isnull().sum(axis=1)"
   ]
  },
  {
   "cell_type": "markdown",
   "metadata": {},
   "source": [
    "Drop if user only has one genre"
   ]
  },
  {
   "cell_type": "code",
   "execution_count": 59,
   "metadata": {},
   "outputs": [],
   "source": [
    "user_mult_gen = user_pivot[user_pivot['missing']<12]"
   ]
  },
  {
   "cell_type": "code",
   "execution_count": 60,
   "metadata": {},
   "outputs": [
    {
     "name": "stderr",
     "output_type": "stream",
     "text": [
      "C:\\Users\\azimmermann\\AppData\\Local\\Continuum\\Anaconda3\\lib\\site-packages\\ipykernel_launcher.py:1: SettingWithCopyWarning: \n",
      "A value is trying to be set on a copy of a slice from a DataFrame\n",
      "\n",
      "See the caveats in the documentation: http://pandas.pydata.org/pandas-docs/stable/indexing.html#indexing-view-versus-copy\n",
      "  \"\"\"Entry point for launching an IPython kernel.\n"
     ]
    }
   ],
   "source": [
    "user_mult_gen.drop('missing', axis=1, inplace=True)"
   ]
  },
  {
   "cell_type": "code",
   "execution_count": 61,
   "metadata": {},
   "outputs": [],
   "source": [
    "import itertools\n",
    "pairwise_genres = pd.DataFrame({'{}-{}'.format(a, b): user_mult_gen[a] + user_mult_gen[b] for a, b in itertools.combinations(user_mult_gen.columns, 2)})"
   ]
  },
  {
   "cell_type": "code",
   "execution_count": 62,
   "metadata": {},
   "outputs": [
    {
     "data": {
      "text/html": [
       "<div>\n",
       "<style>\n",
       "    .dataframe thead tr:only-child th {\n",
       "        text-align: right;\n",
       "    }\n",
       "\n",
       "    .dataframe thead th {\n",
       "        text-align: left;\n",
       "    }\n",
       "\n",
       "    .dataframe tbody tr th {\n",
       "        vertical-align: top;\n",
       "    }\n",
       "</style>\n",
       "<table border=\"1\" class=\"dataframe\">\n",
       "  <thead>\n",
       "    <tr style=\"text-align: right;\">\n",
       "      <th></th>\n",
       "      <th>Blues-Country</th>\n",
       "      <th>Blues-Electronic</th>\n",
       "      <th>Blues-Folk</th>\n",
       "      <th>Blues-International</th>\n",
       "      <th>Blues-Jazz</th>\n",
       "      <th>Blues-Latin</th>\n",
       "      <th>Blues-New Age</th>\n",
       "      <th>Blues-Pop_Rock</th>\n",
       "      <th>Blues-Rap</th>\n",
       "      <th>Blues-Reggae</th>\n",
       "      <th>...</th>\n",
       "      <th>Pop_Rock-Rap</th>\n",
       "      <th>Pop_Rock-Reggae</th>\n",
       "      <th>Pop_Rock-RnB</th>\n",
       "      <th>Pop_Rock-Vocal</th>\n",
       "      <th>Rap-Reggae</th>\n",
       "      <th>Rap-RnB</th>\n",
       "      <th>Rap-Vocal</th>\n",
       "      <th>Reggae-RnB</th>\n",
       "      <th>Reggae-Vocal</th>\n",
       "      <th>RnB-Vocal</th>\n",
       "    </tr>\n",
       "    <tr>\n",
       "      <th>user_id</th>\n",
       "      <th></th>\n",
       "      <th></th>\n",
       "      <th></th>\n",
       "      <th></th>\n",
       "      <th></th>\n",
       "      <th></th>\n",
       "      <th></th>\n",
       "      <th></th>\n",
       "      <th></th>\n",
       "      <th></th>\n",
       "      <th></th>\n",
       "      <th></th>\n",
       "      <th></th>\n",
       "      <th></th>\n",
       "      <th></th>\n",
       "      <th></th>\n",
       "      <th></th>\n",
       "      <th></th>\n",
       "      <th></th>\n",
       "      <th></th>\n",
       "      <th></th>\n",
       "    </tr>\n",
       "  </thead>\n",
       "  <tbody>\n",
       "    <tr>\n",
       "      <th>00020fcd8b01986a6a85b896ccde6c49f35142ad</th>\n",
       "      <td>NaN</td>\n",
       "      <td>NaN</td>\n",
       "      <td>NaN</td>\n",
       "      <td>NaN</td>\n",
       "      <td>NaN</td>\n",
       "      <td>NaN</td>\n",
       "      <td>NaN</td>\n",
       "      <td>NaN</td>\n",
       "      <td>NaN</td>\n",
       "      <td>NaN</td>\n",
       "      <td>...</td>\n",
       "      <td>NaN</td>\n",
       "      <td>NaN</td>\n",
       "      <td>NaN</td>\n",
       "      <td>NaN</td>\n",
       "      <td>NaN</td>\n",
       "      <td>NaN</td>\n",
       "      <td>NaN</td>\n",
       "      <td>NaN</td>\n",
       "      <td>NaN</td>\n",
       "      <td>NaN</td>\n",
       "    </tr>\n",
       "    <tr>\n",
       "      <th>0003798d61a8010dbfd8010180b7107cbbb8a649</th>\n",
       "      <td>NaN</td>\n",
       "      <td>NaN</td>\n",
       "      <td>NaN</td>\n",
       "      <td>NaN</td>\n",
       "      <td>NaN</td>\n",
       "      <td>NaN</td>\n",
       "      <td>NaN</td>\n",
       "      <td>NaN</td>\n",
       "      <td>NaN</td>\n",
       "      <td>NaN</td>\n",
       "      <td>...</td>\n",
       "      <td>NaN</td>\n",
       "      <td>NaN</td>\n",
       "      <td>NaN</td>\n",
       "      <td>NaN</td>\n",
       "      <td>NaN</td>\n",
       "      <td>NaN</td>\n",
       "      <td>NaN</td>\n",
       "      <td>NaN</td>\n",
       "      <td>NaN</td>\n",
       "      <td>NaN</td>\n",
       "    </tr>\n",
       "    <tr>\n",
       "      <th>0003d5245414b9c6244046543a06f601bfc97949</th>\n",
       "      <td>NaN</td>\n",
       "      <td>NaN</td>\n",
       "      <td>NaN</td>\n",
       "      <td>NaN</td>\n",
       "      <td>NaN</td>\n",
       "      <td>NaN</td>\n",
       "      <td>NaN</td>\n",
       "      <td>NaN</td>\n",
       "      <td>NaN</td>\n",
       "      <td>NaN</td>\n",
       "      <td>...</td>\n",
       "      <td>NaN</td>\n",
       "      <td>NaN</td>\n",
       "      <td>NaN</td>\n",
       "      <td>NaN</td>\n",
       "      <td>NaN</td>\n",
       "      <td>NaN</td>\n",
       "      <td>NaN</td>\n",
       "      <td>NaN</td>\n",
       "      <td>NaN</td>\n",
       "      <td>NaN</td>\n",
       "    </tr>\n",
       "    <tr>\n",
       "      <th>00040e91f2f614ca2f94ebc558dd0fc53ea2b875</th>\n",
       "      <td>NaN</td>\n",
       "      <td>NaN</td>\n",
       "      <td>NaN</td>\n",
       "      <td>NaN</td>\n",
       "      <td>NaN</td>\n",
       "      <td>NaN</td>\n",
       "      <td>NaN</td>\n",
       "      <td>NaN</td>\n",
       "      <td>NaN</td>\n",
       "      <td>NaN</td>\n",
       "      <td>...</td>\n",
       "      <td>NaN</td>\n",
       "      <td>NaN</td>\n",
       "      <td>NaN</td>\n",
       "      <td>NaN</td>\n",
       "      <td>NaN</td>\n",
       "      <td>NaN</td>\n",
       "      <td>NaN</td>\n",
       "      <td>NaN</td>\n",
       "      <td>NaN</td>\n",
       "      <td>NaN</td>\n",
       "    </tr>\n",
       "    <tr>\n",
       "      <th>0004dd6499e2e3f630f070416c437627de60d5c1</th>\n",
       "      <td>NaN</td>\n",
       "      <td>NaN</td>\n",
       "      <td>NaN</td>\n",
       "      <td>NaN</td>\n",
       "      <td>NaN</td>\n",
       "      <td>NaN</td>\n",
       "      <td>NaN</td>\n",
       "      <td>NaN</td>\n",
       "      <td>NaN</td>\n",
       "      <td>NaN</td>\n",
       "      <td>...</td>\n",
       "      <td>2.0</td>\n",
       "      <td>NaN</td>\n",
       "      <td>NaN</td>\n",
       "      <td>NaN</td>\n",
       "      <td>NaN</td>\n",
       "      <td>NaN</td>\n",
       "      <td>NaN</td>\n",
       "      <td>NaN</td>\n",
       "      <td>NaN</td>\n",
       "      <td>NaN</td>\n",
       "    </tr>\n",
       "  </tbody>\n",
       "</table>\n",
       "<p>5 rows × 78 columns</p>\n",
       "</div>"
      ],
      "text/plain": [
       "                                          Blues-Country  Blues-Electronic  \\\n",
       "user_id                                                                     \n",
       "00020fcd8b01986a6a85b896ccde6c49f35142ad            NaN               NaN   \n",
       "0003798d61a8010dbfd8010180b7107cbbb8a649            NaN               NaN   \n",
       "0003d5245414b9c6244046543a06f601bfc97949            NaN               NaN   \n",
       "00040e91f2f614ca2f94ebc558dd0fc53ea2b875            NaN               NaN   \n",
       "0004dd6499e2e3f630f070416c437627de60d5c1            NaN               NaN   \n",
       "\n",
       "                                          Blues-Folk  Blues-International  \\\n",
       "user_id                                                                     \n",
       "00020fcd8b01986a6a85b896ccde6c49f35142ad         NaN                  NaN   \n",
       "0003798d61a8010dbfd8010180b7107cbbb8a649         NaN                  NaN   \n",
       "0003d5245414b9c6244046543a06f601bfc97949         NaN                  NaN   \n",
       "00040e91f2f614ca2f94ebc558dd0fc53ea2b875         NaN                  NaN   \n",
       "0004dd6499e2e3f630f070416c437627de60d5c1         NaN                  NaN   \n",
       "\n",
       "                                          Blues-Jazz  Blues-Latin  \\\n",
       "user_id                                                             \n",
       "00020fcd8b01986a6a85b896ccde6c49f35142ad         NaN          NaN   \n",
       "0003798d61a8010dbfd8010180b7107cbbb8a649         NaN          NaN   \n",
       "0003d5245414b9c6244046543a06f601bfc97949         NaN          NaN   \n",
       "00040e91f2f614ca2f94ebc558dd0fc53ea2b875         NaN          NaN   \n",
       "0004dd6499e2e3f630f070416c437627de60d5c1         NaN          NaN   \n",
       "\n",
       "                                          Blues-New Age  Blues-Pop_Rock  \\\n",
       "user_id                                                                   \n",
       "00020fcd8b01986a6a85b896ccde6c49f35142ad            NaN             NaN   \n",
       "0003798d61a8010dbfd8010180b7107cbbb8a649            NaN             NaN   \n",
       "0003d5245414b9c6244046543a06f601bfc97949            NaN             NaN   \n",
       "00040e91f2f614ca2f94ebc558dd0fc53ea2b875            NaN             NaN   \n",
       "0004dd6499e2e3f630f070416c437627de60d5c1            NaN             NaN   \n",
       "\n",
       "                                          Blues-Rap  Blues-Reggae    ...      \\\n",
       "user_id                                                              ...       \n",
       "00020fcd8b01986a6a85b896ccde6c49f35142ad        NaN           NaN    ...       \n",
       "0003798d61a8010dbfd8010180b7107cbbb8a649        NaN           NaN    ...       \n",
       "0003d5245414b9c6244046543a06f601bfc97949        NaN           NaN    ...       \n",
       "00040e91f2f614ca2f94ebc558dd0fc53ea2b875        NaN           NaN    ...       \n",
       "0004dd6499e2e3f630f070416c437627de60d5c1        NaN           NaN    ...       \n",
       "\n",
       "                                          Pop_Rock-Rap  Pop_Rock-Reggae  \\\n",
       "user_id                                                                   \n",
       "00020fcd8b01986a6a85b896ccde6c49f35142ad           NaN              NaN   \n",
       "0003798d61a8010dbfd8010180b7107cbbb8a649           NaN              NaN   \n",
       "0003d5245414b9c6244046543a06f601bfc97949           NaN              NaN   \n",
       "00040e91f2f614ca2f94ebc558dd0fc53ea2b875           NaN              NaN   \n",
       "0004dd6499e2e3f630f070416c437627de60d5c1           2.0              NaN   \n",
       "\n",
       "                                          Pop_Rock-RnB  Pop_Rock-Vocal  \\\n",
       "user_id                                                                  \n",
       "00020fcd8b01986a6a85b896ccde6c49f35142ad           NaN             NaN   \n",
       "0003798d61a8010dbfd8010180b7107cbbb8a649           NaN             NaN   \n",
       "0003d5245414b9c6244046543a06f601bfc97949           NaN             NaN   \n",
       "00040e91f2f614ca2f94ebc558dd0fc53ea2b875           NaN             NaN   \n",
       "0004dd6499e2e3f630f070416c437627de60d5c1           NaN             NaN   \n",
       "\n",
       "                                          Rap-Reggae  Rap-RnB  Rap-Vocal  \\\n",
       "user_id                                                                    \n",
       "00020fcd8b01986a6a85b896ccde6c49f35142ad         NaN      NaN        NaN   \n",
       "0003798d61a8010dbfd8010180b7107cbbb8a649         NaN      NaN        NaN   \n",
       "0003d5245414b9c6244046543a06f601bfc97949         NaN      NaN        NaN   \n",
       "00040e91f2f614ca2f94ebc558dd0fc53ea2b875         NaN      NaN        NaN   \n",
       "0004dd6499e2e3f630f070416c437627de60d5c1         NaN      NaN        NaN   \n",
       "\n",
       "                                          Reggae-RnB  Reggae-Vocal  RnB-Vocal  \n",
       "user_id                                                                        \n",
       "00020fcd8b01986a6a85b896ccde6c49f35142ad         NaN           NaN        NaN  \n",
       "0003798d61a8010dbfd8010180b7107cbbb8a649         NaN           NaN        NaN  \n",
       "0003d5245414b9c6244046543a06f601bfc97949         NaN           NaN        NaN  \n",
       "00040e91f2f614ca2f94ebc558dd0fc53ea2b875         NaN           NaN        NaN  \n",
       "0004dd6499e2e3f630f070416c437627de60d5c1         NaN           NaN        NaN  \n",
       "\n",
       "[5 rows x 78 columns]"
      ]
     },
     "execution_count": 62,
     "metadata": {},
     "output_type": "execute_result"
    }
   ],
   "source": [
    "pairwise_genres.head()"
   ]
  },
  {
   "cell_type": "code",
   "execution_count": 63,
   "metadata": {},
   "outputs": [],
   "source": [
    "pairwise_long = pd.melt(pairwise_genres)\n",
    "pairwise_long_clean = pairwise_long[pairwise_long['value']>0]\n",
    "pairwise_collapsed = pd.DataFrame(pairwise_long.groupby('variable').count().reset_index())"
   ]
  },
  {
   "cell_type": "code",
   "execution_count": 64,
   "metadata": {},
   "outputs": [
    {
     "data": {
      "text/html": [
       "<div>\n",
       "<style>\n",
       "    .dataframe thead tr:only-child th {\n",
       "        text-align: right;\n",
       "    }\n",
       "\n",
       "    .dataframe thead th {\n",
       "        text-align: left;\n",
       "    }\n",
       "\n",
       "    .dataframe tbody tr th {\n",
       "        vertical-align: top;\n",
       "    }\n",
       "</style>\n",
       "<table border=\"1\" class=\"dataframe\">\n",
       "  <thead>\n",
       "    <tr style=\"text-align: right;\">\n",
       "      <th></th>\n",
       "      <th>variable</th>\n",
       "      <th>value</th>\n",
       "    </tr>\n",
       "  </thead>\n",
       "  <tbody>\n",
       "    <tr>\n",
       "      <th>0</th>\n",
       "      <td>Blues-Country</td>\n",
       "      <td>16</td>\n",
       "    </tr>\n",
       "    <tr>\n",
       "      <th>1</th>\n",
       "      <td>Blues-Electronic</td>\n",
       "      <td>35</td>\n",
       "    </tr>\n",
       "    <tr>\n",
       "      <th>2</th>\n",
       "      <td>Blues-Folk</td>\n",
       "      <td>5</td>\n",
       "    </tr>\n",
       "    <tr>\n",
       "      <th>3</th>\n",
       "      <td>Blues-International</td>\n",
       "      <td>9</td>\n",
       "    </tr>\n",
       "    <tr>\n",
       "      <th>4</th>\n",
       "      <td>Blues-Jazz</td>\n",
       "      <td>10</td>\n",
       "    </tr>\n",
       "  </tbody>\n",
       "</table>\n",
       "</div>"
      ],
      "text/plain": [
       "              variable  value\n",
       "0        Blues-Country     16\n",
       "1     Blues-Electronic     35\n",
       "2           Blues-Folk      5\n",
       "3  Blues-International      9\n",
       "4           Blues-Jazz     10"
      ]
     },
     "execution_count": 64,
     "metadata": {},
     "output_type": "execute_result"
    }
   ],
   "source": [
    "pairwise_collapsed.head()"
   ]
  },
  {
   "cell_type": "code",
   "execution_count": 65,
   "metadata": {},
   "outputs": [],
   "source": [
    "pairwise_collapsed['genre1'], pairwise_collapsed['genre2'] = pairwise_collapsed['variable'].str.split('-', 1).str"
   ]
  },
  {
   "cell_type": "code",
   "execution_count": 66,
   "metadata": {},
   "outputs": [],
   "source": [
    "pairwise_collapsed['reduced_value'] = pairwise_collapsed['value'] / 250 \n",
    "pairwise_collapsed['rounded_reduced'] = pairwise_collapsed['reduced_value'].round(0)"
   ]
  },
  {
   "cell_type": "code",
   "execution_count": 67,
   "metadata": {},
   "outputs": [
    {
     "data": {
      "text/html": [
       "\n",
       "    <div class=\"bk-root\">\n",
       "        <a href=\"http://bokeh.pydata.org\" target=\"_blank\" class=\"bk-logo bk-logo-small bk-logo-notebook\"></a>\n",
       "        <span id=\"96ff8647-0a72-45b6-8787-76c50acc8e3e\">Loading BokehJS ...</span>\n",
       "    </div>"
      ]
     },
     "metadata": {},
     "output_type": "display_data"
    },
    {
     "data": {
      "application/javascript": [
       "\n",
       "(function(global) {\n",
       "  function now() {\n",
       "    return new Date();\n",
       "  }\n",
       "\n",
       "  var force = true;\n",
       "\n",
       "  if (typeof (window._bokeh_onload_callbacks) === \"undefined\" || force === true) {\n",
       "    window._bokeh_onload_callbacks = [];\n",
       "    window._bokeh_is_loading = undefined;\n",
       "  }\n",
       "\n",
       "\n",
       "  \n",
       "  if (typeof (window._bokeh_timeout) === \"undefined\" || force === true) {\n",
       "    window._bokeh_timeout = Date.now() + 5000;\n",
       "    window._bokeh_failed_load = false;\n",
       "  }\n",
       "\n",
       "  var NB_LOAD_WARNING = {'data': {'text/html':\n",
       "     \"<div style='background-color: #fdd'>\\n\"+\n",
       "     \"<p>\\n\"+\n",
       "     \"BokehJS does not appear to have successfully loaded. If loading BokehJS from CDN, this \\n\"+\n",
       "     \"may be due to a slow or bad network connection. Possible fixes:\\n\"+\n",
       "     \"</p>\\n\"+\n",
       "     \"<ul>\\n\"+\n",
       "     \"<li>re-rerun `output_notebook()` to attempt to load from CDN again, or</li>\\n\"+\n",
       "     \"<li>use INLINE resources instead, as so:</li>\\n\"+\n",
       "     \"</ul>\\n\"+\n",
       "     \"<code>\\n\"+\n",
       "     \"from bokeh.resources import INLINE\\n\"+\n",
       "     \"output_notebook(resources=INLINE)\\n\"+\n",
       "     \"</code>\\n\"+\n",
       "     \"</div>\"}};\n",
       "\n",
       "  function display_loaded() {\n",
       "    if (window.Bokeh !== undefined) {\n",
       "      var el = document.getElementById(\"96ff8647-0a72-45b6-8787-76c50acc8e3e\");\n",
       "      el.textContent = \"BokehJS \" + Bokeh.version + \" successfully loaded.\";\n",
       "    } else if (Date.now() < window._bokeh_timeout) {\n",
       "      setTimeout(display_loaded, 100)\n",
       "    }\n",
       "  }\n",
       "\n",
       "  function run_callbacks() {\n",
       "    window._bokeh_onload_callbacks.forEach(function(callback) { callback() });\n",
       "    delete window._bokeh_onload_callbacks\n",
       "    console.info(\"Bokeh: all callbacks have finished\");\n",
       "  }\n",
       "\n",
       "  function load_libs(js_urls, callback) {\n",
       "    window._bokeh_onload_callbacks.push(callback);\n",
       "    if (window._bokeh_is_loading > 0) {\n",
       "      console.log(\"Bokeh: BokehJS is being loaded, scheduling callback at\", now());\n",
       "      return null;\n",
       "    }\n",
       "    if (js_urls == null || js_urls.length === 0) {\n",
       "      run_callbacks();\n",
       "      return null;\n",
       "    }\n",
       "    console.log(\"Bokeh: BokehJS not loaded, scheduling load and callback at\", now());\n",
       "    window._bokeh_is_loading = js_urls.length;\n",
       "    for (var i = 0; i < js_urls.length; i++) {\n",
       "      var url = js_urls[i];\n",
       "      var s = document.createElement('script');\n",
       "      s.src = url;\n",
       "      s.async = false;\n",
       "      s.onreadystatechange = s.onload = function() {\n",
       "        window._bokeh_is_loading--;\n",
       "        if (window._bokeh_is_loading === 0) {\n",
       "          console.log(\"Bokeh: all BokehJS libraries loaded\");\n",
       "          run_callbacks()\n",
       "        }\n",
       "      };\n",
       "      s.onerror = function() {\n",
       "        console.warn(\"failed to load library \" + url);\n",
       "      };\n",
       "      console.log(\"Bokeh: injecting script tag for BokehJS library: \", url);\n",
       "      document.getElementsByTagName(\"head\")[0].appendChild(s);\n",
       "    }\n",
       "  };var element = document.getElementById(\"96ff8647-0a72-45b6-8787-76c50acc8e3e\");\n",
       "  if (element == null) {\n",
       "    console.log(\"Bokeh: ERROR: autoload.js configured with elementid '96ff8647-0a72-45b6-8787-76c50acc8e3e' but no matching script tag was found. \")\n",
       "    return false;\n",
       "  }\n",
       "\n",
       "  var js_urls = [\"https://cdn.pydata.org/bokeh/release/bokeh-0.12.5.min.js\", \"https://cdn.pydata.org/bokeh/release/bokeh-widgets-0.12.5.min.js\"];\n",
       "\n",
       "  var inline_js = [\n",
       "    function(Bokeh) {\n",
       "      Bokeh.set_log_level(\"info\");\n",
       "    },\n",
       "    \n",
       "    function(Bokeh) {\n",
       "      \n",
       "    },\n",
       "    \n",
       "    function(Bokeh) {\n",
       "      \n",
       "      document.getElementById(\"96ff8647-0a72-45b6-8787-76c50acc8e3e\").textContent = \"BokehJS is loading...\";\n",
       "    },\n",
       "    function(Bokeh) {\n",
       "      console.log(\"Bokeh: injecting CSS: https://cdn.pydata.org/bokeh/release/bokeh-0.12.5.min.css\");\n",
       "      Bokeh.embed.inject_css(\"https://cdn.pydata.org/bokeh/release/bokeh-0.12.5.min.css\");\n",
       "      console.log(\"Bokeh: injecting CSS: https://cdn.pydata.org/bokeh/release/bokeh-widgets-0.12.5.min.css\");\n",
       "      Bokeh.embed.inject_css(\"https://cdn.pydata.org/bokeh/release/bokeh-widgets-0.12.5.min.css\");\n",
       "    }\n",
       "  ];\n",
       "\n",
       "  function run_inline_js() {\n",
       "    \n",
       "    if ((window.Bokeh !== undefined) || (force === true)) {\n",
       "      for (var i = 0; i < inline_js.length; i++) {\n",
       "        inline_js[i](window.Bokeh);\n",
       "      }if (force === true) {\n",
       "        display_loaded();\n",
       "      }} else if (Date.now() < window._bokeh_timeout) {\n",
       "      setTimeout(run_inline_js, 100);\n",
       "    } else if (!window._bokeh_failed_load) {\n",
       "      console.log(\"Bokeh: BokehJS failed to load within specified timeout.\");\n",
       "      window._bokeh_failed_load = true;\n",
       "    } else if (force !== true) {\n",
       "      var cell = $(document.getElementById(\"96ff8647-0a72-45b6-8787-76c50acc8e3e\")).parents('.cell').data().cell;\n",
       "      cell.output_area.append_execute_result(NB_LOAD_WARNING)\n",
       "    }\n",
       "\n",
       "  }\n",
       "\n",
       "  if (window._bokeh_is_loading === 0) {\n",
       "    console.log(\"Bokeh: BokehJS loaded, going straight to plotting\");\n",
       "    run_inline_js();\n",
       "  } else {\n",
       "    load_libs(js_urls, function() {\n",
       "      console.log(\"Bokeh: BokehJS plotting callback run at\", now());\n",
       "      run_inline_js();\n",
       "    });\n",
       "  }\n",
       "}(this));"
      ]
     },
     "metadata": {},
     "output_type": "display_data"
    },
    {
     "data": {
      "text/html": [
       "\n",
       "\n",
       "    <div class=\"bk-root\">\n",
       "        <div class=\"bk-plotdiv\" id=\"a65333d3-e1d2-4dc3-ae26-0cc29072a5ee\"></div>\n",
       "    </div>\n",
       "<script type=\"text/javascript\">\n",
       "  \n",
       "  (function(global) {\n",
       "    function now() {\n",
       "      return new Date();\n",
       "    }\n",
       "  \n",
       "    var force = false;\n",
       "  \n",
       "    if (typeof (window._bokeh_onload_callbacks) === \"undefined\" || force === true) {\n",
       "      window._bokeh_onload_callbacks = [];\n",
       "      window._bokeh_is_loading = undefined;\n",
       "    }\n",
       "  \n",
       "  \n",
       "    \n",
       "    if (typeof (window._bokeh_timeout) === \"undefined\" || force === true) {\n",
       "      window._bokeh_timeout = Date.now() + 0;\n",
       "      window._bokeh_failed_load = false;\n",
       "    }\n",
       "  \n",
       "    var NB_LOAD_WARNING = {'data': {'text/html':\n",
       "       \"<div style='background-color: #fdd'>\\n\"+\n",
       "       \"<p>\\n\"+\n",
       "       \"BokehJS does not appear to have successfully loaded. If loading BokehJS from CDN, this \\n\"+\n",
       "       \"may be due to a slow or bad network connection. Possible fixes:\\n\"+\n",
       "       \"</p>\\n\"+\n",
       "       \"<ul>\\n\"+\n",
       "       \"<li>re-rerun `output_notebook()` to attempt to load from CDN again, or</li>\\n\"+\n",
       "       \"<li>use INLINE resources instead, as so:</li>\\n\"+\n",
       "       \"</ul>\\n\"+\n",
       "       \"<code>\\n\"+\n",
       "       \"from bokeh.resources import INLINE\\n\"+\n",
       "       \"output_notebook(resources=INLINE)\\n\"+\n",
       "       \"</code>\\n\"+\n",
       "       \"</div>\"}};\n",
       "  \n",
       "    function display_loaded() {\n",
       "      if (window.Bokeh !== undefined) {\n",
       "        var el = document.getElementById(\"a65333d3-e1d2-4dc3-ae26-0cc29072a5ee\");\n",
       "        el.textContent = \"BokehJS \" + Bokeh.version + \" successfully loaded.\";\n",
       "      } else if (Date.now() < window._bokeh_timeout) {\n",
       "        setTimeout(display_loaded, 100)\n",
       "      }\n",
       "    }\n",
       "  \n",
       "    function run_callbacks() {\n",
       "      window._bokeh_onload_callbacks.forEach(function(callback) { callback() });\n",
       "      delete window._bokeh_onload_callbacks\n",
       "      console.info(\"Bokeh: all callbacks have finished\");\n",
       "    }\n",
       "  \n",
       "    function load_libs(js_urls, callback) {\n",
       "      window._bokeh_onload_callbacks.push(callback);\n",
       "      if (window._bokeh_is_loading > 0) {\n",
       "        console.log(\"Bokeh: BokehJS is being loaded, scheduling callback at\", now());\n",
       "        return null;\n",
       "      }\n",
       "      if (js_urls == null || js_urls.length === 0) {\n",
       "        run_callbacks();\n",
       "        return null;\n",
       "      }\n",
       "      console.log(\"Bokeh: BokehJS not loaded, scheduling load and callback at\", now());\n",
       "      window._bokeh_is_loading = js_urls.length;\n",
       "      for (var i = 0; i < js_urls.length; i++) {\n",
       "        var url = js_urls[i];\n",
       "        var s = document.createElement('script');\n",
       "        s.src = url;\n",
       "        s.async = false;\n",
       "        s.onreadystatechange = s.onload = function() {\n",
       "          window._bokeh_is_loading--;\n",
       "          if (window._bokeh_is_loading === 0) {\n",
       "            console.log(\"Bokeh: all BokehJS libraries loaded\");\n",
       "            run_callbacks()\n",
       "          }\n",
       "        };\n",
       "        s.onerror = function() {\n",
       "          console.warn(\"failed to load library \" + url);\n",
       "        };\n",
       "        console.log(\"Bokeh: injecting script tag for BokehJS library: \", url);\n",
       "        document.getElementsByTagName(\"head\")[0].appendChild(s);\n",
       "      }\n",
       "    };var element = document.getElementById(\"a65333d3-e1d2-4dc3-ae26-0cc29072a5ee\");\n",
       "    if (element == null) {\n",
       "      console.log(\"Bokeh: ERROR: autoload.js configured with elementid 'a65333d3-e1d2-4dc3-ae26-0cc29072a5ee' but no matching script tag was found. \")\n",
       "      return false;\n",
       "    }\n",
       "  \n",
       "    var js_urls = [];\n",
       "  \n",
       "    var inline_js = [\n",
       "      function(Bokeh) {\n",
       "        (function() {\n",
       "          var fn = function() {\n",
       "            var docs_json = {\"3e3c0c47-6cc2-4358-8c51-e75495456847\":{\"roots\":{\"references\":[{\"attributes\":{\"below\":[{\"id\":\"dee05dc6-6dde-46f2-8847-0b462498c172\",\"type\":\"LinearAxis\"}],\"css_classes\":null,\"left\":[{\"id\":\"52944027-2b53-4a75-9397-1f1204b449ec\",\"type\":\"LinearAxis\"}],\"outline_line_color\":{\"value\":null},\"renderers\":[{\"id\":\"a4dee30d-bcc9-4168-8c9c-ecb8df42b9d6\",\"type\":\"BoxAnnotation\"},{\"id\":\"8b208d94-adab-4d18-a492-3f2063852abf\",\"type\":\"GlyphRenderer\"},{\"id\":\"45bda913-c37c-45fa-ad5e-60c9af9c32ba\",\"type\":\"GlyphRenderer\"},{\"id\":\"b1bbf8a6-22f0-4524-8d38-9673afbafd57\",\"type\":\"GlyphRenderer\"},{\"id\":\"21ac8039-8b7b-4e2a-888e-1fe33fe97ea7\",\"type\":\"Legend\"},{\"id\":\"dee05dc6-6dde-46f2-8847-0b462498c172\",\"type\":\"LinearAxis\"},{\"id\":\"52944027-2b53-4a75-9397-1f1204b449ec\",\"type\":\"LinearAxis\"}],\"title\":{\"id\":\"b32a36ee-1139-44c4-95ca-8cedf3e6286d\",\"type\":\"Title\"},\"tool_events\":{\"id\":\"613fdd83-6538-4609-8fa6-db029344a6d1\",\"type\":\"ToolEvents\"},\"toolbar\":{\"id\":\"82fc88ff-de6e-49a2-a0b1-790f13ce6e6e\",\"type\":\"Toolbar\"},\"x_mapper_type\":\"auto\",\"x_range\":{\"id\":\"aed30bd3-951f-4172-b41f-b7d0b7820751\",\"type\":\"Range1d\"},\"y_mapper_type\":\"auto\",\"y_range\":{\"id\":\"6ab69bff-fdb4-48d8-bedb-7eb98a4dcf57\",\"type\":\"Range1d\"}},\"id\":\"f785823e-43bd-43ad-9bf5-2680aa41f3d0\",\"subtype\":\"Chart\",\"type\":\"Plot\"},{\"attributes\":{\"data_source\":{\"id\":\"25c9242c-f07d-4999-bb7e-afd33c120a97\",\"type\":\"ColumnDataSource\"},\"glyph\":{\"id\":\"3d32947a-a157-4b0c-ae64-13a3b10bd429\",\"type\":\"Arc\"},\"hover_glyph\":null,\"muted_glyph\":null},\"id\":\"45bda913-c37c-45fa-ad5e-60c9af9c32ba\",\"type\":\"GlyphRenderer\"},{\"attributes\":{\"end_angle\":{\"field\":\"end_angle\",\"units\":\"rad\"},\"line_color\":{\"field\":\"line_color\"},\"line_width\":{\"value\":10},\"radius\":{\"units\":\"data\",\"value\":1},\"start_angle\":{\"field\":\"start_angle\",\"units\":\"rad\"},\"x\":{\"value\":0},\"y\":{\"value\":0}},\"id\":\"3d32947a-a157-4b0c-ae64-13a3b10bd429\",\"type\":\"Arc\"},{\"attributes\":{\"callback\":null,\"column_names\":[\"start_x\",\"start_y\",\"end_x\",\"end_y\",\"colors\",\"weight\",\"cx0\",\"cy0\",\"cx1\",\"cy1\",\"index\"],\"data\":{\"colors\":[\"#678CE5\",\"#7C67E5\",\"#7C67E5\",\"#7C67E5\",\"#7C67E5\",\"#7C67E5\",\"#7C67E5\",\"#7C67E5\",\"#7C67E5\",\"#7C67E5\",\"#7C67E5\",\"#7C67E5\",\"#7C67E5\",\"#7C67E5\",\"#7C67E5\",\"#7C67E5\",\"#7C67E5\",\"#7C67E5\",\"#7C67E5\",\"#7C67E5\",\"#7C67E5\",\"#7C67E5\",\"#7C67E5\",\"#7C67E5\",\"#7C67E5\",\"#7C67E5\",\"#7C67E5\",\"#7C67E5\",\"#7C67E5\",\"#B767E5\",\"#B767E5\",\"#B767E5\",\"#B767E5\",\"#B767E5\",\"#B767E5\",\"#B767E5\",\"#B767E5\",\"#B767E5\",\"#B767E5\",\"#B767E5\",\"#B767E5\",\"#B767E5\",\"#B767E5\",\"#B767E5\",\"#B767E5\",\"#B767E5\",\"#B767E5\",\"#B767E5\",\"#B767E5\",\"#B767E5\",\"#B767E5\",\"#B767E5\",\"#B767E5\",\"#B767E5\",\"#B767E5\",\"#B767E5\",\"#B767E5\",\"#B767E5\",\"#B767E5\",\"#B767E5\",\"#B767E5\",\"#B767E5\",\"#B767E5\",\"#B767E5\",\"#B767E5\",\"#B767E5\",\"#B767E5\",\"#B767E5\",\"#B767E5\",\"#B767E5\",\"#B767E5\",\"#B767E5\",\"#B767E5\",\"#B767E5\",\"#B767E5\",\"#B767E5\",\"#B767E5\",\"#B767E5\",\"#E567DA\",\"#E567DA\",\"#E567DA\",\"#E567DA\",\"#E5679F\",\"#E5679F\",\"#E5679F\",\"#E5679F\",\"#E5679F\",\"#E5679F\",\"#E56967\",\"#E56967\",\"#E56967\",\"#E56967\",\"#E56967\",\"#E56967\",\"#E5A367\",\"#E5A367\",\"#E5A367\",\"#E5A367\",\"#E5A367\",\"#E5A367\",\"#E5A367\",\"#E5A367\",\"#E5A367\",\"#E5A367\",\"#E5A367\",\"#E5A367\",\"#E5A367\",\"#E5A367\",\"#E5A367\",\"#E5A367\",\"#E5A367\",\"#E5A367\",\"#E5A367\",\"#E5A367\",\"#E5A367\",\"#E5A367\",\"#E5A367\",\"#E5DE67\",\"#E5DE67\",\"#B3E567\",\"#B3E567\",\"#B3E567\",\"#B3E567\",\"#B3E567\",\"#B3E567\",\"#B3E567\",\"#B3E567\",\"#B3E567\",\"#B3E567\",\"#B3E567\",\"#B3E567\",\"#B3E567\",\"#B3E567\",\"#B3E567\",\"#B3E567\",\"#B3E567\",\"#B3E567\",\"#B3E567\",\"#B3E567\",\"#B3E567\",\"#B3E567\",\"#B3E567\",\"#B3E567\",\"#B3E567\",\"#B3E567\",\"#B3E567\",\"#B3E567\",\"#B3E567\",\"#B3E567\",\"#B3E567\",\"#B3E567\",\"#B3E567\",\"#B3E567\",\"#B3E567\",\"#B3E567\",\"#B3E567\",\"#B3E567\",\"#B3E567\",\"#B3E567\",\"#B3E567\",\"#B3E567\",\"#B3E567\",\"#B3E567\",\"#B3E567\",\"#B3E567\",\"#B3E567\",\"#B3E567\",\"#B3E567\",\"#B3E567\",\"#B3E567\",\"#B3E567\",\"#B3E567\",\"#B3E567\",\"#B3E567\",\"#B3E567\",\"#B3E567\",\"#78E567\",\"#78E567\",\"#78E567\",\"#78E567\",\"#78E567\"],\"cx0\":{\"__ndarray__\":\"AAAAAAAA4D+zakVu9gfcP7AecCDsTdw/AOUx2oiR3D/Uvvj/xtLcP9fKgSihEd0/mClMHRJO3T9FrAfbFIjdP4RE/5Gkv90/jSx/prz03T8YvzaxWCfeP/32lX90V94/vY4mFAyF3j+kuOCmG7DeP15oe6Wf2N4/fCe4s5T+3j9/bqqr9yHfP4t8+p3FQt8/Oqgj0vtg3z9kJK7Gl3zfPwA0ZDGXld8/0ciC//er3z+/iOVVuL/fP0E2LpHW0N8/jHjnRVHf3z+zAKNAJ+vfPx4JE4ZX9N8/Wy0fU+H63z9ymPQcxP7fPz12MVrxo7s/biro7D3ZvT+WqkCyEgbAP38XUks9HsE/t5bkRgg1wj9rv2pGXUrDP5X/WAkmXsQ/963ubkxwxT8wj/x3uoDGPxupqEhaj8c/oEAvKhacyD+X3aCM2KbJPy8xnQiMr8o/ILsKYRu2yz+lCsuEcbrMP+B3a5B5vM0/TzPSzx68zj+diOe/TLnPP2uZHYj3WdA/EtBS0vjV0D/IgXJLoFDRP+cJGxzkydE//ip0ibpB0j8X6vb1GbjSP8oPM+L4LNM/Oj+S7U2g0z9ukxjXDxLUP3qzIn41gtQ/SE4h47Xw1D/l7lEoiF3VP5gadZKjyNU/AqqBif8x1j8KT1WZk5nWP0k5YnJX/9Y/IstZ6kJj1z/AUdT8TcXXP5Cy9ctwJdg//wAPoaOD2D+B7zzt3t/YPyoPA0obOtk/dtHjeVGS2T/kP/VoeujZP6pdci2PPNo/sidJCImO2j+GJ6VlYd7aPw+Odt0RLNs/U8v1M5R32z+ZmCNa4sDbP7NqRW72B9w/bPfscBLSrD8m7fQwflmxPy2djzqSR7Q/XHoif94ytz/SGXJgh7J3P6x1DLcgSpA/tqb72emlmj8dzPVyc3+iP+dNhOUAqqc/bPfscBLSrD/dXjrWqRWsv340afU07aa/etfN/lfCob/g1PqcOyuZv8JolMpFno2/8EKL5/DFcb8aeMzuFBbQv7P1nn+NK8+/z0+7flkozr+QKJFpoyLNvzMIKgSBGsy/CWwmRggQy782E+pYTwPKv7QnxJVs9Mi/KWsThHbjx78ej2bXg9DGv27gmG2ru8W/DG7rTASlxL+30xqipYzDv3bRcb6mcsK/mNjYFR9Xwb/st+I8JjrAv44grc2nN76/FXdux3/4u79fn5A8BLe5v/HQITRlc7e/R8O44tIttb9WWXKmfeayv2XY6wKWnbC/II98upTx0r+cKELCgwnSv/Jx42kb+d+/CSpBM7r9379kucYo2f/fv43bCCB4/9+/SUOcIJf837/4AhVkNvffvwENAlZW79+/pMzkk/fk37/W1yTtGtjfvyC7/2LByN+/x+B0KOy237/NlC2inKLfv6UnYWbUi9+/0DG1PJVy37/h+hke4Vbfv5oGozS6ON+/Vstb2yIY378JlRieHfXev42YQzmtz96/QDummdSn3r8iky7cln3evyEksU33UN6/WN+mavkh3r99aefeoPDdv9ytX4XxvN2/ssPEZ++G3b/ZK0O+nk7dvyZtKu8DFN2/AhaVjiPX3L8nKg1eApjcv6kDLUylVty/s648dBET3L+tx8sdTM3bv9PjR7xahdu/aoyP7kI7278i1YF+Cu/av22WimC3oNq/1lQrs09Q2r+g3oC+2f3Zv0apxfNbqdm/qvjQ7NxS2b/62ZJrY/rYv6v8jFn2n9i/E3RIx5xD2L9ibMjrXeXXvyDe+SNBhde/WEsg8k0j178Hkj/9i7/Wv33fghADWta/rdCgGrvy1b+XyzwtvInVvy+eRXwOH9W/Ym9RXbqy1L8DD/dGyETUv6qxJNBA1dO/wCV0ryxk078gj3y6lPHSv0jAd5ATCcA/dV7ZVcTdvT+xTMXJ+Ka7P6MLTzXybbk/U3oif94ytz8=\",\"dtype\":\"float64\",\"shape\":[181]},\"cx1\":{\"__ndarray__\":\"U3oif94ytz9ceiJ/3jK3P3+E5wdtbLk/nChCwoMJ0r/dqONkB/+0PzL2Nl2MybI/CuvPlZmSsD/SM3qztrSsP2GA5Bv8Qag/jcKgW1zNoz/ShLAeYa6eP+yQSuWjv5U/58dpZGeeiT95XoJ0Gu5uPyZQ+qHpT3S/XiGRH6UKjL+7vg1MkvWWv4aa9tcG5J+/IL0Fyf5npL9BmVQFYtyovyzr+AjUTq2/8B5u8X3fsL+cu9lnQBazv7AOdyCFS7W/277Q8R9/t79clbfT5LC5vwQxnDNQRto/R5wNY0Dy2T/SrcKW5fTfP/BCi+fwxXG/ZdjrApadsL8/Zxltzo7Rv6slAEajEtG/eSOz4qfgu7+wiW9jPQ6+vwcOFOO8HMC/pU8H1Rgxwb9UbVfwHETCv2odp7izVcO/EqEjzsdlxL+oQTDvQ3TFv9FxD/oSgca/J3GJ7h+Mx79rUZDvVZXIv3c84USgnMm/TdqiXOqhyr/ntgDNH6XLv6eHw1Uspsy/dTDm4fukzb/7aCeJeqHOv4zil5GUm8+/0WeSOJtJ0L8RV49nJsTQv+wa3kJiPdG/gKbMUUW10b9o8pg2xivSv0tQLK/boNK//5TUlXwU07/WCvvhn4bTv74d2ag899O/JLMqHkpm1L+jH96Uv9PUv7mswX+UP9W/C6EucsCp1b+7vbEgOxLWv8UjsWH8eNa/UpQPLvzd1r9f/8yhMkHXvwRUpPyXote/NIamoiQC2L+xvdIc0V/Yv3OiqxmWu9i/UDqcxBic2T+S1mtL4EPZP99ZSRWe6dg/dtUXalmN2D8ozk8g4uvfPzX8FAg34N8/tLrJbWwV2b9cz2oUTW3Zv2pL/i8xw9m/kouuChIX2r/KtZugDJXQvysT5xbpaNq/E5zX76+42r8x9/NZYAbbv6+zcEP0Udu/GoO8xGWb27/7UPYgr+Lbv6gEYMbKJ9y/WOTNTrNq3L/EkBKAY6vcv+uQZ0zW6dy/nSg6uxkv2D/HZdLSBibdvxAehl/wX92/c2JBbI6X3b/Z8qig3Mzdv7WNntLW/92/jzqUBnkw3r9C8dtvv17ev7+X83Cmit6/WFDNmyq03r/+EhSySNvevwWMbKX9/96/ZTuyl0Yi37+0zzDbIELfv1a42fKJX9+/vep1kn9637/M1tOe/5Lfv8uG8S0Iqd+/pOcih5e8379mNjQjrM3fv1+QiKxE3N+/n035oubO1z/cWefjx2zXPz3Mf0bl0d8/bKM0/1/o379ofBUp/fHfvyI+P2jFCNc/F1RBQeei1j+HxYymNTvWP8HbdfW40dU/0kNZsHlm1T9zVux9gPnUPwBxiijWitQ/hG5/nYMa1D9FT0/skajTP2gd+0UKNdM/Zx5D/PW/0j/kX+aAXknSPyyw32RN0dE/VxGgV8xX0T+mt0Ym5dzQP+yi1rqhYNA/RsbTNhjGzz+oMsXSXMjOP12JM8ElyM0/H9sXrYfFzD9SfQdzl8DLP2w8hR9quco/oLBO7RSwyT9K16VDraTIP+4Vl7RIl8c/o8g7+/yHxj+ygfn533bFP8YcvrgHZMQ/98s4Y4pPwz+cQRBHfjnCPz0dFtL5IcE/kmnfokzC2z+a2BxaNmjbP28S+53SCts/EFtZryyq2j+DDm8M7sDfP190GcNSrd8/tYXvCxWX3z9X6XjANn7fPzsDLfK5Yt8/setG6qBE3z9fw5Qp7iPfPwpoQmikAN8/gY6flcba3j+sRuHXV7LeP7Lu3otbh94/CZvKRNVZ3j87+eTLyCneP7WzLCA6990/gF0Jdi3C3T+s7PE2p4rdPyrLDgGsUN0/xoXXpkAU3T9OIawuatXcPwAAAAAAAOA/jw3cRjn93z/SrcKW5fTfPwQxnDNQRto/rx5q0i2U3D/NNv3+kFDcPzLX61OZCtw/kmnfokzC2z8=\",\"dtype\":\"float64\",\"shape\":[181]},\"cy0\":{\"__ndarray__\":\"AAAAAAAAAAC/1NqtBN/OPw7lmOZr280/K5IQL1nVzD80nLND4szLP0FMuhMdwso/sbtRvx+1yT8TDMaVAKbIP4W2qBPWlMc/2Rnz4LaBxj8vbyXPuWzFP8hMYtf1VcQ/VN+GGII9wz82AkDVdSPCP2JfHHLoB8E/sH835+LVvz/fa3f4UJm9P6aVA5VKWrs/pLEGbv8YuT+2eNZkn9W2PzAL+4ZakLQ/pakyCmFJsj/wF3JI4wCwP7f+w3cjbqs//Emz9TnYpj+Kk65na0CiP54m2qUyTps/Hz+UuUoZkj/Zqq8KxcWBPxEn5NS4Pt8/1WdR6iYe3z9SIs7SFfvePwqDpF6I1d4/k+stkYGt3j+0DpWgBIPeP6H4k/UUVt4/vgguK7Ym3j9q4mUO7PTdP+Ra7526wN0/a2rdCSaK3T9LJ0yzMlHdP63RBizlFd0/a/cpNkLY3D9nt8HDTpjcP0YsZPYPVtw/rwbIHosR3D+DX1e8xcrbP9jKvnzFgds/wLR4O5A22z8zEVUBLOnaP9Fo/QOfmdo/YEx1pe9H2j9QOZdzJPTZP7j5jSdEntk/rYpKpVVG2T/5k/b6X+zYP5F8Y2BqkNg/dSd2Nnwy2D/IZI8GndLXP2Yj8YHUcNc/Sm8ggSoN1z+GSUQDp6fWP6pmgS1SQNY/1uBSSjTX1T/a6t/IVWzVPxaSTjy//9Q/85wTW3mR1D8slD/+jCHUPy4FySADsNM/LAzU3uQ80z/BNPd0O8jSPwnAfT8QUtI/fV+nuWza0T8DdOV8WmHRP7/gFUDj5tA/hoG71hBr0D/wqWhg2tvPP7/U2q0E384/m00hmOvL3z+HtC0vZrTfP0La/wGImN8/fw+y4lR43z8nDJeac//fP+I1/VTa+98/0q3CluX03z+yuNMalurfP2LDQPbs3N8/m00hmOvL3z+Hr6vcjc7fP3oNUAMV398/0Ch1tkPs3z+mzt2TGPbfP8aaWJOS/N8/CrPbBrH/3z81OSlvr6nbP0Msks7B8ts/9cucI4E53D8wrgSM533cPwOPf1fvv9w/QW42CJP/3D/hejpTzTzdP5jC9SCZd90/OJyXjfGv3T/Nw3zp0eXdP9Qfk7k1Gd4/Qye5txhK3j944BjTdnjeP2RxfjBMpN4/4zmqKpXN3j9NcZ5STvTeP+hA6G90GN8/BlXkgAQ63z893/66+1jfP00E74pXdd8/0rDtlBWP3z8p0Oe0M6bfP1vhq/6vut8/rGgSBk7K2T+0jIfwo27aP5yfMCTD/5S/eGBxK20eiL8Txv6zxu1ov+psKO0MUHc/jtQteZWKjT9xoXPTarWXP0HVgF7YUaA/Uwa37bTHpD8S5PLh8TupPwobQyY2rq0/VRWSZhQPsT+Qe7mLuEWzP9zdrT3berU/fWmiVVCutz8eZVrO69+5P16bmceBD7w/RuGRieY8vj8XuiZE9zPAP1n1ijM3SME/W7rrfR1bwj9ZE0CplGzDP2yGLViHfMQ/d2GzS+CKxT8Up9NkipfGP0Z7OaZwosc/8+7cNX6ryD9fCaRenrLJPwXvAJK8t8o/hgWNacS6yz9/9KCoobvMP25j6T1Aus0/BlX4RIy2zj+VANMHcrDPPzQFPgDvU9A/MP48bV7O0D8e8Cy6fUfRP6rulnBDv9E//N0DNaY10j9omLfHnKrSP3zpaQUeHtM/C1D95yCQ0z/QeDOHnADUP69jXxmIb9Q/kyUV9Nrc1D81OdeMjEjVP0RRwXmUstU/kp4wcuoa1j8kfWlPhoHWPyt7Og1g5tY/Oq2cym9J1z8dQ1HKrarXPxZRfHMSCtg/VsE8UpZn2D/kYUEYMsPYPz8DW53eHNk/VZwL4JR02T+saBIGTsrZP33k/12y+t6/oxMmcuEd37/vVsvyjT7fv7JuND21XN+/fw+y4lR4378=\",\"dtype\":\"float64\",\"shape\":[181]},\"cy1\":{\"__ndarray__\":\"fw+y4lR4379/D7LiVHjfP74zhfXIXN8/tIyH8KNu2j/g2ijQCZHfv+ijk2dHp9+/Uq8h7Au737/J1HfSVczfvxFiz8Aj29+/nR4Rj3Tn379rbexGR/Hfv1uL6iOb+N+/gOh9k2/9378vmw01xP/fv/zr/NmY/9+/+Pmuhe3837/vdoZtwvffv7Z74fgX8N+/x3QRwe7l37/kJ0+RR9nfv5jTqmYjyt+/8Wn4b4O437/d57cNaaTfvyDL+dHVjd+/96g/gMt037/r51gNTFnfv+zfelsQRNK/CNmi07i60r/QpvvZ6aWavwqz2wax/98/W+Gr/q+63z9VU6nMw8DaPx4BPRGqENs/gp87n1k737/1oNmM9hrfvzCs8V0l+N6/0dTcyujS3r8XG1i8Q6vev/88Sks5gd6/HsSFwMxU3r8LVYeUASbev39FMG/b9N2/lX59J17B3b/esDrDjYvdv03gsXZuU92/R05XpAQZ3b9dyHHcVNzcv5Viv9xjndy/YKQWkDZc3L+iLwQO0hjcv4bpZJo709u//6z8pHiL279HjwnJjkHbv8i+08yD9dq/PgU6oV2n2r8T9jphIlfavzrSelHYBNq/FyvG34Ww2b9GTpGiMVrZvz2EdFjiAdm/ISyl556n2L9Uv2tdbkvYv37Hlu1X7de/JtLq8WKN178GbY/plivXv6o2eXj7x9a//g7RZphi1r/Tc1igdfvVv2gVyzObktW/cq89UhEo1b8mM3pO4LvUvx5PWZwQTtS/W69Vht4v079AzmwAeKPTv1bMt+57FdS/9/u8HuGF1L9aoZy//O2hv6Pk0NWGh6a/DWIZ0Kre07+P5bKdt23Tv2FeKtg/+9K/qd/fcEyH0r98PSMZUF7bPxwv3HbmEdK/7ZcbFheb0b+8etaW5yLRv8iox1xhqdC/+5hw5o0u0L/NCreY7WTPvyoAt4BLas6/UByVGUltzb/QsIsn+m3MvzIB0JxybMu/i1h3f5701L/9VQOYxmjKv0eXoGIKY8m/TY5mb1JbyL+17b5Ys1HHv3dAIt9BRsa/m9945xI5xb84D3l5OyrEv1xjAr7QGcO/uo12/ecHwr8stQ+elvTAv43waETkv7+/73iTTSCUvb+H1gTDDGa7v9R+Wj7VNbm/t4cBhKUDt78qTct/qc+0vxsDf0ENmrK/E3ho+fxisL/8msjpSVWsv0fV0zVj4qe/lsARIqth1b8ebp86/szVv9q23kAxH6u/Dd8m0Z5to78ntI+2q+6dvwae0SCPNta/3leqUFWe1r/6RyxrSATXvx+dBzdgaNe/btxDoZTK1787nea93SrYv/kfl8gzidi/jrI+JY/l2L9G1aVg6D/Zv/cTDjE4mNm/b4bIdnfu2b+Q7Mg8n0Lav71ZNbmolNq/f2TyTY3k2r+dziuJRjLbv+ia2SXOfdu/CYZBDB7H27+R13RSMA7cv46Byjz/Uty/YYRVPoWV3L+vjVf5vNXcv9PIrz+hE92/EthFEy1P3b8B7nCmW4jdv4X+Wlwov92/y/9fyY7z3b8jM2mziiXev8luRBIYVd6/LmH3DzOC3r9jxw4J2Kzev/yP6YwD1d6/to4ceOvWz78DxfjgqoTQvwD0ZnjiG9G/aMSdSQqx0b9Kt+45mrSvv47jFxWwI7K/ZmV62ZBrtL/m3ubavrG2v0C3Ta4J9ri/apzOEEE4u7+yB7zrNHi9v1QVm1i1tb+/ka2PUkn4wL8oM5GrThTCv9ZHSxjTLsO/jGe6Gb9HxL/wndJS+17Fv+3zcIpwdMa/2N9JrQeIx7/GkNTPqZnIv8LqMjBAqcm/5wsWOLS2yr+WMp9+78HLvwdcFDMmpqG86AO76Dmoir/QpvvZ6aWav+zfelsQRNK/vNs8ytvKzL8A8oMSY9HNvxTnBIJv1c6/to4ceOvWz78=\",\"dtype\":\"float64\",\"shape\":[181]},\"end_x\":[0.18123990257022857,0.18123990257022882,0.19862139593081804,-0.563661460314751,0.16403286386714103,0.14677576591013658,0.12947387518928394,0.11213247186442679,0.09475684815379416,0.07735230671893074,0.05992415904644023,0.04247772382703538,0.025018325332389593,0.007551291790285236,-0.009918046241445277,-0.027384357501689542,-0.04484231165303983,-0.062286580908495856,-0.0797118416573892,-0.09711277609003323,-0.11448407382060272,-0.13182043350774775,-0.1491165644724476,-0.16636718831261055,-0.18356704051392722,-0.20071087205648552,0.8210831649790014,0.8108217177040239,0.998644632772477,-0.008678323808824356,-0.12980914251938028,-0.5486824160427445,-0.5335251204680181,-0.21779345101665706,-0.2348095641637662,-0.25175401855105445,-0.2686216431004545,-0.28540729018069055,-0.30210583717822337,-0.3187121880605598,-0.33522127493145115,-0.3516280595775046,-0.367927535005736,-0.38411472697159493,-0.4001846954969958,-0.41613253637789144,-0.43195338268092914,-0.4476424062287329,-0.4631948190733575,-0.47860587495746615,-0.4938708707627846,-0.5089851479453903,-0.5239440939573986,-0.5387431436546115,-0.5533777806897007,-0.5678435388904974,-0.5821360036229718,-0.5962508131384822,-0.6101836599048862,-0.6239302919211054,-0.6374865140147432,-0.6508481891223606,-0.6640112395520169,-0.6769716482276932,-0.6897254599152157,-0.7022687824293078,-0.7145977878213989,-0.7267087135478326,-0.7385978636181112,-0.7502616097228327,-0.7616963923409711,-0.772898721826165,0.8003047790569529,0.7895356629439496,0.7785177627327434,0.7672545501833798,0.9975443488205586,0.9961199910975497,-0.7838651794716811,-0.7945924185537296,-0.8050771653528106,-0.8153162201527826,-0.5181944977645625,-0.8253064582173456,-0.835044830743643,-0.8445283657926891,-0.8537541691963407,-0.8627194254405339,-0.8714213985245175,-0.8798574327958208,-0.8880249537607012,-0.8959214688698229,-0.9035445682789293,0.7557495743542578,-0.9108919255842743,-0.9179612985325907,-0.9247505297053763,-0.9312575471772916,-0.9374803651484657,-0.9434170845505195,-0.94906589362612,-0.954425068481889,-0.9594929736144975,-0.9642680624097861,-0.968748877614758,-0.9729340517823003,-0.9768223076884994,-0.9804124587224219,-0.9837034092482423,-0.9866941549396073,-0.9893837830861342,-0.99177147287195,-0.993856495626187,-0.995638215045357,0.7440064604838205,0.7320289088482315,0.9943720223367404,-0.9971160873875369,-0.9982896616383075,0.7198206935954128,0.7073856615558068,0.6947277310302277,0.6818508905552038,0.6687591976461766,0.6554567775189767,0.6419478217899552,0.6282365871552007,0.6143273940492483,0.6002246252836985,0.5859327246661906,0.5714561956001458,0.5567995996657422,0.5419675551825475,0.5269647357542808,0.5117958687961539,0.49646573404524863,0.4809791620544197,0.4653410326701726,0.44955627349502153,0.4336298583347872,0.4175668056313444,0.40137217688130455,0.385051075041123,0.3686086429191552,0.3520500615551418,0.33538054858766053,0.3186053566100323,0.30172977151522623,0.2847591108302596,0.267698722040638,0.8674681836230766,0.8564712295544894,0.8450711331903004,0.8332732605730104,0.9923010104034379,0.9899076281104832,0.987192652999673,0.9841569670891585,0.9808015565869036,0.9771275115702932,0.973136025631998,0.968828395492211,0.9642060205773789,0.9592704025655698,0.954023144898619,0.9484659522612172,0.9426006300271078,0.9364290836725703,0.9299533181573878,0.9231754372734904,0.9160976429614938,0.9087222345953527,0.9010516082353577,1.0,0.9996611007667741,0.998644632772477,0.8210831649790014,0.8930882558497241,0.884834764505024,0.8762938155257187,0.8674681836230766],\"end_y\":[-0.9834389140746537,0.9834389140746537,0.9800762934988752,0.8260059068528762,-0.986454874574374,-0.9891697905524071,-0.991582833475585,-0.9936932669358153,-0.9955004468748162,-0.9970038217806693,-0.9982029328561287,-0.9990974141586365,-0.9996869927120002,-0.9999714885896988,-0.9999508149697927,-0.9996249781614202,-0.9989940776028713,-0.9980583058312422,-0.9968179484236764,-0.9952733839102135,-0.993425083658269,-0.9912736117287847,-0.9888196247040885,-0.9860638714875201,-0.9830071930748819,-0.9796505222977862,-0.5708085810392709,-0.5852932103651094,-0.05204706941533532,0.9999623426388962,0.9915389989901472,0.8360308644574653,0.8457842194257272,-0.9759948835389738,-0.9720413924196963,-0.967791255459252,-0.9632457697067826,-0.9584063223454419,-0.9532743902690582,-0.9478515396314184,-0.9421394253683116,-0.9361397906924792,-0.9298544665616243,-0.9232853711196432,-0.9164345091112495,-0.9093039712701704,-0.9018959336810998,-0.8942126571156047,-0.8862564863421873,-0.8780298494107124,-0.8695352569114199,-0.860775301208747,-0.8517526556501956,-0.8424700737504844,-0.8329303883512365,-0.8231365107564578,-0.8130914298440708,-0.8027982111537736,-0.7922599959515046,-0.7814800002707966,-0.7704615139313128,-0.7592078995348666,-0.7477225914392276,-0.7360090947100317,-0.7240709840511108,-0.7119119027135714,-0.6995355613839533,-0.6869457370518098,-0.6741462718570519,-0.6611410719174116,-0.6479341061363797,-0.6345294049919834,-0.5995934127545114,-0.6137046821881498,-0.6276225721798123,-0.6413426971774915,-0.07003764799140325,-0.08800547332875168,-0.6209310593067713,-0.6071432189993845,-0.5931700918180917,-0.5790159420566755,0.855262803170191,-0.5646850892530639,-0.5501819068711008,-0.5355108209658606,-0.520676308832912,-0.5056828976419462,-0.490535163055182,-0.4752377278309746,-0.45979526041304997,-0.4442124735057975,-0.4284941226360558,-0.6548607339452855,-0.41264500470182935,-0.3966699565083797,-0.38057385329213816,-0.36436160723288974,-0.3480381659546831,-0.33160851101592365,-0.31507765638911023,-0.29845064693068024,-0.2817325568414294,-0.2649284881179763,-0.24804356899574423,-0.23108295238393547,-0.2140518142929759,-0.19695535225490934,-0.1797987837372241,-0.1625873445505957,-0.14532628725103156,-0.1280208795369054,-0.11067640264137063,-0.09329814972064297,-0.6681724229256527,-0.6812735695816092,-0.10594470819225013,-0.07589142423864477,-0.058461538348503254,-0.6941600457184343,-0.7068277907844693,-0.7192728131506094,-0.7314911913680681,-0.7434790754040372,-0.7552326878548351,-0.7667483251361765,-0.7780223586501778,-0.789051235928732,-0.7998314817529025,-0.8103596992479661,-0.8206325709537783,-0.830646859870107,-0.8403994104766211,-0.8498871497271981,-0.8591070880182459,-0.8680563201307346,-0.8767320261456338,-0.8851314723324764,-0.8932520120107591,-0.9010910863839195,-0.9086462253456155,-0.9159150482580591,-0.922895264702163,-0.9295846751992519,-0.9359811719041259,-0.9420827392692427,-0.9478874546798234,-0.9533934890596691,-0.9585991074475085,-0.9635026695436859,-0.49749266366618927,-0.5161947626094449,-0.5346538879017544,-0.5528613508050855,-0.12384952463500301,-0.1417141058916766,-0.15953264826820684,-0.17729936302725163,-0.1950084782687842,-0.2126542408052246,-0.23023091803048384,-0.24773279978232188,-0.26515420019742303,-0.2824894595585641,-0.2997329461333015,-0.3168790580035583,-0.3339222248855256,-0.3508569099392947,-0.3676776115676126,-0.38437886520319997,-0.40095524508403113,-0.41740136601600714,-0.4337118851224572,-2.4492935982947064e-16,-0.026032357053512728,-0.05204706941533532,-0.5708085810392709,-0.44988150357988466,-0.46590496833940165,-0.4817770738333007,-0.49749266366618927],\"index\":[0,1,2,3,4,5,6,7,8,9,10,11,12,13,14,15,16,17,18,19,20,21,22,23,24,25,26,27,28,29,30,31,32,33,34,35,36,37,38,39,40,41,42,43,44,45,46,47,48,49,50,51,52,53,54,55,56,57,58,59,60,61,62,63,64,65,66,67,68,69,70,71,72,73,74,75,76,77,78,79,80,81,82,83,84,85,86,87,88,89,90,91,92,93,94,95,96,97,98,99,100,101,102,103,104,105,106,107,108,109,110,111,112,113,114,115,116,117,118,119,120,121,122,123,124,125,126,127,128,129,130,131,132,133,134,135,136,137,138,139,140,141,142,143,144,145,146,147,148,149,150,151,152,153,154,155,156,157,158,159,160,161,162,163,164,165,166,167,168,169,170,171,172,173,174,175,176,177,178,179,180],\"start_x\":[1.0,0.875971999524458,0.8845120080522602,0.8927654515856887,0.9007296561666984,0.9084020415451403,0.9157801220147119,0.9228615072182796,0.9296439029223085,0.9361251117601498,0.9423030339439462,0.948175667944923,0.9537411111418447,0.9589975604374286,0.963943312842513,0.9685767660277942,0.97289641884295,0.9769008718029836,0.9805888275416301,0.9839590912316791,0.9870105709720747,0.9897422781416713,0.9921533277195279,0.9942429385716381,0.9960104337040021,0.9974552404819604,0.998576890815716,0.9993750213119869,0.9998493733917384,0.2159406366726432,0.23319219653815842,0.2503706684825969,0.26747066836866645,0.284486836654064,0.30141384007128263,0.3182463732991832,0.33497916062580607,0.35160695760190475,0.3681245526846781,0.38452676887119175,0.400808465320972,0.41696453896726643,0.4329899261164645,0.4488796040351793,0.4646285925244893,0.4802319554808507,0.49568480244318797,0.5109822901256796,0.526119623935758,0.5410920594768465,0.5558949040353668,0.5705235180515442,0.5849733165735554,0.5992397706945607,0.6133184089721688,0.6272048188298933,0.6408946479401572,0.6543836055884151,0.667667464017964,0.6807420597550218,0.6936032949136577,0.7062471384801665,0.7186696275764827,0.7308668687022399,0.7428350389550857,0.7545703872288687,0.7660692353893238,0.777327979426886,0.7883430905862714,0.7991111164724731,0.8096286821328218,0.819892491114776,0.8298993264991081,0.8396460519081621,0.849129612488868,0.8583470358702051,0.8672954330948129,0.875971999524458,0.11258044487928281,0.13554360762086864,0.15843417987273636,0.18123990257022882,0.0115709854419607,0.031815550179298796,0.05204706941533514,0.0722572475113314,0.09243779757917246,0.11258044487928281,-0.109705557634125,-0.08955698958853195,-0.06937170000841589,-0.04915796557671981,-0.028924074639782978,-0.008678323808824356,-0.5026955284154184,-0.48703324759466254,-0.4712127435316206,-0.45523915585784724,-0.43911767393740603,-0.4228535351809915,-0.40645202334444563,-0.38991846681221465,-0.37325823686630827,-0.3564767459413235,-0.3395794458660991,-0.32257182609257096,-0.30545941191240494,-0.28824776266198826,-0.2709424699163576,-0.25354915567265723,-0.23607347052371036,-0.2185210918223041,-0.20089772183677732,-0.18320908589851784,-0.16546093054196317,-0.1476590216377171,-0.12980914251938028,-0.5919898645701984,-0.563661460314751,-0.999158579648393,-0.9997225762429603,-0.9999814793025448,-0.9999352098155768,-0.9995837819024952,-0.9989273028114374,-0.9979659728855098,-0.9967000855016477,-0.9951300269810825,-0.9932562764714454,-0.9910794058005415,-0.9886000793018411,-0.9858190536117389,-0.9827371774386453,-0.9793553913039795,-0.9756747272551423,-0.9716963085505579,-0.9674213493168803,-0.9628511541784676,-0.9579871178592398,-0.9528307247570391,-0.947383548490624,-0.9416472514194352,-0.93562358413628,-0.9293143849330892,-0.9227215792399106,-0.9158471790373098,-0.9086932822423577,-0.9012620720683915,-0.8935558163587459,-0.885576866894657,-0.8773276586775495,-0.8688107091859273,-0.8600286176070945,-0.8509840640439397,-0.841679808697027,-0.832118691022243,-0.8223036288642571,-0.8122376175660584,-0.8019237290548424,-0.7913651109045265,-0.7805649853751782,-0.7695266484296516,-0.7582534687277324,-0.7467488865980949,-0.73501641298839,-0.7230596283937798,-0.7108821817642487,-0.6984877893910234,-0.685880233772442,-0.6730633624596177,-0.6600410868822503,-0.6468173811549429,-0.6333962808643893,-0.6197818818378,-0.6059783388929461,-0.5919898645701984,0.25055398090535563,0.23333028976297823,0.21603307582936318,0.19866778948752736,0.18123990257022857],\"start_y\":[0.0,0.4823619554329745,0.46651742476713387,0.4505217513672359,0.43438011752590744,0.41809775282417055,0.40167993243715744,0.385131975425055,0.36845924300983085,0.35166713683829937,0.33476109723209196,0.3177466014250965,0.30062916178893784,0.28341432404707534,0.26610766547809395,0.24871479310877254,0.23124134189751452,0.21369297290872885,0.1960753714787532,0.17839424537391374,0.1606553229413179,0.14286435125297917,0.1250270942438756,0.10714933084454513,0.08923685310882229,0.0712954643373235,0.05333097719728851,0.03534921183938721,0.01735599401210206,0.9764064939529097,0.9724306656382803,0.9681500546731263,0.9635660027016411,0.9586799464735684,0.9534934173938923,0.9480080410428579,0.9422255366664769,0.9361477166376748,0.9297764858882513,0.9231138413118293,0.9161618711379814,0.9089227542777302,0.9013987596406258,0.8935922454236164,0.8855056583719338,0.8771415330122262,0.868502490858177,0.8595912395888616,0.8504105722000972,0.8409633661290513,0.8312525823523861,0.8212812644582179,0.811052537692186,0.8005696079779261,0.7898357609122592,0.7788543607354078,0.767628849276564,0.7561627448751397,0.7444596412780351,0.7325232065132752,0.7203571817403625,0.7079653800777101,0.6953516854075208,0.6825200511584864,0.6694744990666905,0.6562191179151025,0.6427580622520551,0.629095551089113,0.6152358665787341,0.6011833526721424,0.5869424137578322,0.5725175132811283,0.5579131723452374,0.5431339682942283,0.5281845332783844,0.5130695528023785,0.49779376425672606,0.4823619554329745,0.9936426135340527,0.9907713815170077,0.9873695410777332,0.9834389140746537,0.9999330539070613,0.9994937572425295,0.998644632772477,0.9973860286679808,0.995718461001257,0.9936426135340527,0.993964129445417,0.9959816994382173,0.9975908816934638,0.9987910163894937,0.9995816114286178,0.9999623426388962,0.8644635363687373,0.8733834299649818,0.8820195861393346,0.8903691992504204,0.8984295567465498,0.9061980400469524,0.913672125392477,0.9208493846654902,0.9277274861787026,0.934304195432668,0.9405773758417078,0.9465449894280272,0.9522050974837972,0.957555861200984,0.9625955422687266,0.9673225034380636,0.97173520905383,0.9758322255535468,0.9796122219331448,0.9830739701793704,0.9862163456687318,0.9890383275328577,0.9915389989901472,0.8059454077331529,0.8260059068528762,-0.04101381127139733,-0.023553567673247205,-0.006086136039742412,0.011383152949795822,0.028848968049221706,0.046305979072544974,0.06374885852058744,0.08117228320681961,0.09857093588188118,0.11593950685628954,0.13327269562084135,0.15056521246421228,0.16781178008726172,0.1850071352135493,0.20214603019557215,0.21922323461623255,0.23623353688504717,0.25317174582861085,0.27003269227482957,0.28681123063043906,0.30350224045132773,0.3201006280051846,0.3366013278259951,0.35299930425991133,0.3692895530020234,0.38546710262356426,0.40152701608908176,0.41746439226311366,0.43327436740590775,0.448952116657729,0.4644928555113016,0.4798918412719363,0.4951443745048974,0.5102458004695678,0.5251915105399743,0.5399769436112398,0.5545975874915332,0.5690489802790917,0.5833267117238963,0.5974264245735834,0.6113438159031842,0.6250746384282824,0.6386147018011935,0.6519598738897677,0.6651060820384261,0.6780493143110466,0.6907856207153193,0.7033111144081983,0.7156219728820806,0.7277144391313535,0.7395848227989493,0.7512295013025632,0.7626449209401851,0.7738275979746132,0.7847741196966139,0.7954811454664062,0.8059454077331529,-0.9681026302270223,-0.9723975400416872,-0.976386045653923,-0.9800668902784848,-0.9834389140746537],\"weight\":{\"__ndarray__\":\"VkgfD+xhzT9MXzuNrrUZQExfO42utRlATF87ja61GUBMXzuNrrUZQExfO42utRlATF87ja61GUBMXzuNrrUZQExfO42utRlATF87ja61GUBMXzuNrrUZQExfO42utRlATF87ja61GUBMXzuNrrUZQExfO42utRlATF87ja61GUBMXzuNrrUZQExfO42utRlATF87ja61GUBMXzuNrrUZQExfO42utRlATF87ja61GUBMXzuNrrUZQExfO42utRlATF87ja61GUBMXzuNrrUZQExfO42utRlATF87ja61GUBMXzuNrrUZQKXtDBwIaidApe0MHAhqJ0Cl7QwcCGonQKXtDBwIaidApe0MHAhqJ0Cl7QwcCGonQKXtDBwIaidApe0MHAhqJ0Cl7QwcCGonQKXtDBwIaidApe0MHAhqJ0Cl7QwcCGonQKXtDBwIaidApe0MHAhqJ0Cl7QwcCGonQKXtDBwIaidApe0MHAhqJ0Cl7QwcCGonQKXtDBwIaidApe0MHAhqJ0Cl7QwcCGonQKXtDBwIaidApe0MHAhqJ0Cl7QwcCGonQKXtDBwIaidApe0MHAhqJ0Cl7QwcCGonQKXtDBwIaidApe0MHAhqJ0Cl7QwcCGonQKXtDBwIaidApe0MHAhqJ0Cl7QwcCGonQKXtDBwIaidApe0MHAhqJ0Cl7QwcCGonQKXtDBwIaidApe0MHAhqJ0Cl7QwcCGonQKXtDBwIaidApe0MHAhqJ0Cl7QwcCGonQKXtDBwIaidApe0MHAhqJ0Cl7QwcCGonQKXtDBwIaidApe0MHAhqJ0Cl7QwcCGonQKXtDBwIaidAVkgfD+xh7T9WSB8P7GHtP1ZIHw/sYe0/VkgfD+xh7T9MXzuNrrX5P0xfO42utfk/TF87ja61+T9MXzuNrrX5P0xfO42utfk/TF87ja61+T9MXzuNrrX5P0xfO42utfk/TF87ja61+T9MXzuNrrX5P0xfO42utfk/TF87ja61+T8KZcIsn8oYQAplwiyfyhhACmXCLJ/KGEAKZcIsn8oYQAplwiyfyhhACmXCLJ/KGEAKZcIsn8oYQAplwiyfyhhACmXCLJ/KGEAKZcIsn8oYQAplwiyfyhhACmXCLJ/KGEAKZcIsn8oYQAplwiyfyhhACmXCLJ/KGEAKZcIsn8oYQAplwiyfyhhACmXCLJ/KGEAKZcIsn8oYQAplwiyfyhhACmXCLJ/KGEAKZcIsn8oYQAplwiyfyhhAVkgfD+xh3T9WSB8P7GHdP8zwJ+1JykFAzPAn7UnKQUDM8CftScpBQMzwJ+1JykFAzPAn7UnKQUDM8CftScpBQMzwJ+1JykFAzPAn7UnKQUDM8CftScpBQMzwJ+1JykFAzPAn7UnKQUDM8CftScpBQMzwJ+1JykFAzPAn7UnKQUDM8CftScpBQMzwJ+1JykFAzPAn7UnKQUDM8CftScpBQMzwJ+1JykFAzPAn7UnKQUDM8CftScpBQMzwJ+1JykFAzPAn7UnKQUDM8CftScpBQMzwJ+1JykFAzPAn7UnKQUDM8CftScpBQMzwJ+1JykFAzPAn7UnKQUDM8CftScpBQMzwJ+1JykFAzPAn7UnKQUDM8CftScpBQMzwJ+1JykFAzPAn7UnKQUDM8CftScpBQMzwJ+1JykFAzPAn7UnKQUDM8CftScpBQMzwJ+1JykFAzPAn7UnKQUDM8CftScpBQMzwJ+1JykFAzPAn7UnKQUDM8CftScpBQMzwJ+1JykFAzPAn7UnKQUDM8CftScpBQMzwJ+1JykFAzPAn7UnKQUDM8CftScpBQMzwJ+1JykFAzPAn7UnKQUDM8CftScpBQMzwJ+1JykFAzPAn7UnKQUDM8CftScpBQN3+ofrZqCRA3f6h+tmoJEDd/qH62agkQN3+ofrZqCRA3f6h+tmoJEA=\",\"dtype\":\"float64\",\"shape\":[181]}}},\"id\":\"70d26dec-4f69-4116-a402-de3194880ed5\",\"type\":\"ColumnDataSource\"},{\"attributes\":{},\"id\":\"611d23cd-7200-43a7-87c1-1e06036058fc\",\"type\":\"BasicTickFormatter\"},{\"attributes\":{},\"id\":\"78cdfd5c-0b15-4c3e-9f35-164791d6716e\",\"type\":\"BasicTickFormatter\"},{\"attributes\":{},\"id\":\"3d365cb2-5a8a-444e-959d-90c53d267f17\",\"type\":\"BasicTicker\"},{\"attributes\":{\"callback\":null,\"column_names\":[\"end_angle\",\"line_color\",\"start_angle\",\"index\"],\"data\":{\"end_angle\":{\"__ndarray__\":\"oI+Nhv/FkT8oSvCRbxvgP4jzMGh/N/Y/gsyZYN9T9z83SFFTh0X5P+zDCEYvN/s/Qj5miVtbAUCAdICHc6IBQDbwN3oblBNAddLeZOmzFkBDln9ixwwXQGmEsFWp7BhAGC1EVPshGUA=\",\"dtype\":\"float64\",\"shape\":[13]},\"index\":[0,1,2,3,4,5,6,7,8,9,10,11,12],\"line_color\":[\"#678CE5\",\"#7C67E5\",\"#B767E5\",\"#E567DA\",\"#E5679F\",\"#E56967\",\"#E5A367\",\"#E5DE67\",\"#B3E567\",\"#78E567\",\"#67E590\",\"#67E5CA\",\"#67C6E5\"],\"start_angle\":{\"__ndarray__\":\"AAAAAAAAAACgj42G/8WRPyhK8JFvG+A/iPMwaH839j+CzJlg31P3PzdIUVOHRfk/7MMIRi83+z9CPmaJW1sBQIB0gIdzogFANvA3ehuUE0B10t5k6bMWQEOWf2LHDBdAaYSwVansGEA=\",\"dtype\":\"float64\",\"shape\":[13]}}},\"id\":\"25c9242c-f07d-4999-bb7e-afd33c120a97\",\"type\":\"ColumnDataSource\"},{\"attributes\":{\"callback\":null,\"end\":1.8,\"start\":-1.8},\"id\":\"aed30bd3-951f-4172-b41f-b7d0b7820751\",\"type\":\"Range1d\"},{\"attributes\":{\"plot\":null,\"text\":null},\"id\":\"b32a36ee-1139-44c4-95ca-8cedf3e6286d\",\"type\":\"Title\"},{\"attributes\":{\"active_drag\":\"auto\",\"active_scroll\":\"auto\",\"active_tap\":\"auto\",\"tools\":[{\"id\":\"6e87eceb-5202-49ac-aa8d-f80e2f54d57c\",\"type\":\"PanTool\"},{\"id\":\"60c63f19-69cb-4d7b-8f37-dd694b7c04b0\",\"type\":\"WheelZoomTool\"},{\"id\":\"8a0b3de2-5fc9-43c0-a8c2-83679f73b0aa\",\"type\":\"BoxZoomTool\"},{\"id\":\"fd7da831-d791-4dde-b624-ca5e363294f2\",\"type\":\"SaveTool\"},{\"id\":\"cad9f3e2-a260-4632-8893-1b9850e86d53\",\"type\":\"ResetTool\"},{\"id\":\"b93a9622-6f44-48dd-8cf6-a2d513a6ff53\",\"type\":\"HelpTool\"}]},\"id\":\"82fc88ff-de6e-49a2-a0b1-790f13ce6e6e\",\"type\":\"Toolbar\"},{\"attributes\":{},\"id\":\"1761928b-e791-4351-9e4c-45363893e5db\",\"type\":\"BasicTicker\"},{\"attributes\":{},\"id\":\"613fdd83-6538-4609-8fa6-db029344a6d1\",\"type\":\"ToolEvents\"},{\"attributes\":{\"cx0\":{\"field\":\"cx0\"},\"cx1\":{\"field\":\"cx1\"},\"cy0\":{\"field\":\"cy0\"},\"cy1\":{\"field\":\"cy1\"},\"line_alpha\":{\"field\":\"weight\"},\"line_color\":{\"field\":\"colors\"},\"x0\":{\"field\":\"start_x\"},\"x1\":{\"field\":\"end_x\"},\"y0\":{\"field\":\"start_y\"},\"y1\":{\"field\":\"end_y\"}},\"id\":\"30912a8d-d7d7-4a66-b3aa-e8b5cc639805\",\"type\":\"Bezier\"},{\"attributes\":{\"callback\":null,\"column_names\":[\"angles\",\"text\",\"text_x\",\"text_y\",\"index\"],\"data\":{\"angles\":{\"__ndarray__\":\"oI+Nhv/FgT+ltiSOn6nQP5wYKTE3Re4/BWBlZK/F9j9civVZs0z4PxIGrUxbPvo/OKBqLPP2/j9hWXOI534BQHYq+D1VZQxAVmGLbwIkFUBcNK9jWOAWQFYNGFy4/BdAwFj6VFIHGUA=\",\"dtype\":\"float64\",\"shape\":[13]},\"index\":[0,1,2,3,4,5,6,7,8,9,10,11,12],\"text\":[\"Blues\",\"Country\",\"Electronic\",\"Folk\",\"International\",\"Jazz\",\"Latin\",\"New Age\",\"Pop_Rock\",\"Rap\",\"Reggae\",\"RnB\",\"Vocal\"],\"text_x\":{\"__ndarray__\":\"3wgsKm6Z8T/wqg/vwQHxP03OwsFPl+Q/0OMJPYqyxD+Wai7WGlCtPzqgFWX6iLO/O2qKBpEY2b+leungr1fkv/D2vGf3J/C/ExMwLccT4z9IlPrgGr/tP9/mu7YW4vA/QtTFsxKY8T8=\",\"dtype\":\"float64\",\"shape\":[13]},\"text_y\":{\"__ndarray__\":\"UzAZZe+Mgz9aG3wkWx/SP6VYJn+OjOw/wBJbe6do8T8BRh5GfpPxP9k8jde+jvE/5J4E2plx8D+9/NsNB7rsP5zZ49Lx7Nu/89S91QGV7b+aP3GE39Hiv3nrUlYj49O/TYSaGaZSnb8=\",\"dtype\":\"float64\",\"shape\":[13]}}},\"id\":\"a3999b5b-e8b6-4db7-8238-61eefd1adafa\",\"type\":\"ColumnDataSource\"},{\"attributes\":{\"data_source\":{\"id\":\"a3999b5b-e8b6-4db7-8238-61eefd1adafa\",\"type\":\"ColumnDataSource\"},\"glyph\":{\"id\":\"2630a877-3485-46c3-8216-902c2e344b6d\",\"type\":\"Text\"},\"hover_glyph\":null,\"muted_glyph\":null},\"id\":\"b1bbf8a6-22f0-4524-8d38-9673afbafd57\",\"type\":\"GlyphRenderer\"},{\"attributes\":{\"bottom_units\":\"screen\",\"fill_alpha\":{\"value\":0.5},\"fill_color\":{\"value\":\"lightgrey\"},\"left_units\":\"screen\",\"level\":\"overlay\",\"line_alpha\":{\"value\":1.0},\"line_color\":{\"value\":\"black\"},\"line_dash\":[4,4],\"line_width\":{\"value\":2},\"plot\":null,\"render_mode\":\"css\",\"right_units\":\"screen\",\"top_units\":\"screen\"},\"id\":\"a4dee30d-bcc9-4168-8c9c-ecb8df42b9d6\",\"type\":\"BoxAnnotation\"},{\"attributes\":{\"axis_label\":null,\"formatter\":{\"id\":\"78cdfd5c-0b15-4c3e-9f35-164791d6716e\",\"type\":\"BasicTickFormatter\"},\"plot\":{\"id\":\"f785823e-43bd-43ad-9bf5-2680aa41f3d0\",\"subtype\":\"Chart\",\"type\":\"Plot\"},\"ticker\":{\"id\":\"1761928b-e791-4351-9e4c-45363893e5db\",\"type\":\"BasicTicker\"},\"visible\":false},\"id\":\"52944027-2b53-4a75-9397-1f1204b449ec\",\"type\":\"LinearAxis\"},{\"attributes\":{\"plot\":{\"id\":\"f785823e-43bd-43ad-9bf5-2680aa41f3d0\",\"subtype\":\"Chart\",\"type\":\"Plot\"}},\"id\":\"6e87eceb-5202-49ac-aa8d-f80e2f54d57c\",\"type\":\"PanTool\"},{\"attributes\":{\"angle\":{\"field\":\"angles\",\"units\":\"rad\"},\"text_baseline\":\"middle\",\"text_color\":{\"value\":\"#000000\"},\"text_font_size\":{\"value\":\"8pt\"},\"x\":{\"field\":\"text_x\"},\"y\":{\"field\":\"text_y\"}},\"id\":\"2630a877-3485-46c3-8216-902c2e344b6d\",\"type\":\"Text\"},{\"attributes\":{\"plot\":{\"id\":\"f785823e-43bd-43ad-9bf5-2680aa41f3d0\",\"subtype\":\"Chart\",\"type\":\"Plot\"}},\"id\":\"60c63f19-69cb-4d7b-8f37-dd694b7c04b0\",\"type\":\"WheelZoomTool\"},{\"attributes\":{\"overlay\":{\"id\":\"a4dee30d-bcc9-4168-8c9c-ecb8df42b9d6\",\"type\":\"BoxAnnotation\"},\"plot\":{\"id\":\"f785823e-43bd-43ad-9bf5-2680aa41f3d0\",\"subtype\":\"Chart\",\"type\":\"Plot\"}},\"id\":\"8a0b3de2-5fc9-43c0-a8c2-83679f73b0aa\",\"type\":\"BoxZoomTool\"},{\"attributes\":{\"plot\":{\"id\":\"f785823e-43bd-43ad-9bf5-2680aa41f3d0\",\"subtype\":\"Chart\",\"type\":\"Plot\"}},\"id\":\"fd7da831-d791-4dde-b624-ca5e363294f2\",\"type\":\"SaveTool\"},{\"attributes\":{\"plot\":{\"id\":\"f785823e-43bd-43ad-9bf5-2680aa41f3d0\",\"subtype\":\"Chart\",\"type\":\"Plot\"}},\"id\":\"cad9f3e2-a260-4632-8893-1b9850e86d53\",\"type\":\"ResetTool\"},{\"attributes\":{\"plot\":{\"id\":\"f785823e-43bd-43ad-9bf5-2680aa41f3d0\",\"subtype\":\"Chart\",\"type\":\"Plot\"}},\"id\":\"b93a9622-6f44-48dd-8cf6-a2d513a6ff53\",\"type\":\"HelpTool\"},{\"attributes\":{\"callback\":null,\"end\":1.8,\"start\":-1.8},\"id\":\"6ab69bff-fdb4-48d8-bedb-7eb98a4dcf57\",\"type\":\"Range1d\"},{\"attributes\":{\"location\":\"top_left\",\"plot\":{\"id\":\"f785823e-43bd-43ad-9bf5-2680aa41f3d0\",\"subtype\":\"Chart\",\"type\":\"Plot\"}},\"id\":\"21ac8039-8b7b-4e2a-888e-1fe33fe97ea7\",\"type\":\"Legend\"},{\"attributes\":{\"data_source\":{\"id\":\"70d26dec-4f69-4116-a402-de3194880ed5\",\"type\":\"ColumnDataSource\"},\"glyph\":{\"id\":\"30912a8d-d7d7-4a66-b3aa-e8b5cc639805\",\"type\":\"Bezier\"},\"hover_glyph\":null,\"muted_glyph\":null},\"id\":\"8b208d94-adab-4d18-a492-3f2063852abf\",\"type\":\"GlyphRenderer\"},{\"attributes\":{\"axis_label\":null,\"formatter\":{\"id\":\"611d23cd-7200-43a7-87c1-1e06036058fc\",\"type\":\"BasicTickFormatter\"},\"plot\":{\"id\":\"f785823e-43bd-43ad-9bf5-2680aa41f3d0\",\"subtype\":\"Chart\",\"type\":\"Plot\"},\"ticker\":{\"id\":\"3d365cb2-5a8a-444e-959d-90c53d267f17\",\"type\":\"BasicTicker\"},\"visible\":false},\"id\":\"dee05dc6-6dde-46f2-8847-0b462498c172\",\"type\":\"LinearAxis\"}],\"root_ids\":[\"f785823e-43bd-43ad-9bf5-2680aa41f3d0\"]},\"title\":\"Bokeh Application\",\"version\":\"0.12.5\"}};\n",
       "            var render_items = [{\"docid\":\"3e3c0c47-6cc2-4358-8c51-e75495456847\",\"elementid\":\"a65333d3-e1d2-4dc3-ae26-0cc29072a5ee\",\"modelid\":\"f785823e-43bd-43ad-9bf5-2680aa41f3d0\"}];\n",
       "            \n",
       "            Bokeh.embed.embed_items(docs_json, render_items);\n",
       "          };\n",
       "          if (document.readyState != \"loading\") fn();\n",
       "          else document.addEventListener(\"DOMContentLoaded\", fn);\n",
       "        })();\n",
       "      },\n",
       "      function(Bokeh) {\n",
       "      }\n",
       "    ];\n",
       "  \n",
       "    function run_inline_js() {\n",
       "      \n",
       "      if ((window.Bokeh !== undefined) || (force === true)) {\n",
       "        for (var i = 0; i < inline_js.length; i++) {\n",
       "          inline_js[i](window.Bokeh);\n",
       "        }if (force === true) {\n",
       "          display_loaded();\n",
       "        }} else if (Date.now() < window._bokeh_timeout) {\n",
       "        setTimeout(run_inline_js, 100);\n",
       "      } else if (!window._bokeh_failed_load) {\n",
       "        console.log(\"Bokeh: BokehJS failed to load within specified timeout.\");\n",
       "        window._bokeh_failed_load = true;\n",
       "      } else if (force !== true) {\n",
       "        var cell = $(document.getElementById(\"a65333d3-e1d2-4dc3-ae26-0cc29072a5ee\")).parents('.cell').data().cell;\n",
       "        cell.output_area.append_execute_result(NB_LOAD_WARNING)\n",
       "      }\n",
       "  \n",
       "    }\n",
       "  \n",
       "    if (window._bokeh_is_loading === 0) {\n",
       "      console.log(\"Bokeh: BokehJS loaded, going straight to plotting\");\n",
       "      run_inline_js();\n",
       "    } else {\n",
       "      load_libs(js_urls, function() {\n",
       "        console.log(\"Bokeh: BokehJS plotting callback run at\", now());\n",
       "        run_inline_js();\n",
       "      });\n",
       "    }\n",
       "  }(this));\n",
       "</script>"
      ]
     },
     "metadata": {},
     "output_type": "display_data"
    }
   ],
   "source": [
    "from bokeh.charts import output_notebook, Chord\n",
    "from bokeh.io import show\n",
    "\n",
    "chord_from_df = Chord(pairwise_collapsed, source=\"genre1\", target=\"genre2\", value=\"rounded_reduced\")\n",
    "output_notebook()\n",
    "show(chord_from_df)"
   ]
  },
  {
   "cell_type": "markdown",
   "metadata": {},
   "source": [
    "# 8. Further Work"
   ]
  },
  {
   "cell_type": "markdown",
   "metadata": {},
   "source": [
    "Primarily, the model and visualizations above can be improved by adding additional features.\n",
    "\n",
    "Additionally, here are some tasks for me to consider: <br>\n",
    "1) Do I need to address the imbalance between the classes? <br>\n",
    "2) Add additional genres from other available genre datasets, especially to the chord diagram <br>\n",
    "3) Double check for missing values and clean up treatment of them <br>\n",
    "4) Add more comments and clean up the dataset names <br>\n",
    "5) Examine KNN's performance on the testing data for varying values of k <br>\n",
    "6) Tune model parameters <br>\n",
    "7) Plot AUC <br>\n",
    "8) Additional feature engineering <br>\n",
    "9) Find out how artist_familiarity and artist_hotttnesss are calculated <br>\n",
    "10) Check if artist_name is unique - maybe use ID instead <br>\n",
    "11) Are the issues if my features are too multi-collinear?\n",
    "12) Add genre size based on share to 2D plot\n",
    "13) Clean up GitHub repository"
   ]
  },
  {
   "cell_type": "markdown",
   "metadata": {},
   "source": [
    "# 9. Archive of Unused Code"
   ]
  },
  {
   "cell_type": "code",
   "execution_count": null,
   "metadata": {
    "collapsed": true
   },
   "outputs": [],
   "source": [
    "#import h5py\n",
    "#filename = 'https://labrosa.ee.columbia.edu/millionsong/sites/default/files/AdditionalFiles/msd_summary_file.h5'\n",
    "#f = h5py.File(filename, 'r')\n",
    "\n",
    "#import hdf5_getters\n",
    "#h5 = hdf5_getters.open_h5_file_read('https://labrosa.ee.columbia.edu/millionsong/sites/default/files/AdditionalFiles/msd_summary_file.h5')\n",
    "#duration = hdf5_getters.get_duration(h5)\n",
    "#h5.close()\n",
    "\n",
    "#import hdf5_getters\n",
    "#h5 = hdf5_getters.open_h5_file_read(\"C:/Users/azimmermann/Desktop/Music Genre Viz/MillionSongSubset/AdditionalFiles/subset_msd_summary_file.h5\")\n",
    "\n",
    "#df = pd.read_csv('https://github.com/Taranveer/Million_Song_dataset/blob/master/song_dataset.csv')"
   ]
  },
  {
   "cell_type": "markdown",
   "metadata": {},
   "source": [
    "Scale features and run KNN model"
   ]
  },
  {
   "cell_type": "code",
   "execution_count": null,
   "metadata": {
    "collapsed": true
   },
   "outputs": [],
   "source": [
    "scaler = StandardScaler() #create a scaler object\n",
    "scaler.fit(X_train) #fit the scaler\n",
    "X_train_scaled = scaler.transform(X_train) #transform the training data with it\n",
    "X_test_scaled = scaler.transform(X_test) #transform the testing data with it"
   ]
  },
  {
   "cell_type": "code",
   "execution_count": 304,
   "metadata": {},
   "outputs": [
    {
     "data": {
      "text/plain": [
       "<matplotlib.text.Text at 0x1c2bbd68>"
      ]
     },
     "execution_count": 304,
     "metadata": {},
     "output_type": "execute_result"
    },
    {
     "data": {
      "image/png": "[encoded data removed]",
      "text/plain": [
       "<matplotlib.figure.Figure at 0x1c696fd0>"
      ]
     },
     "metadata": {},
     "output_type": "display_data"
    }
   ],
   "source": [
    "k_range = range(1, 20)\n",
    "testing_error = []\n",
    "\n",
    "for k in k_range:\n",
    "    knn_ss = KNeighborsClassifier(n_neighbors=k)\n",
    "    knn_ss.fit(X_train_scaled, y_train)\n",
    "    y_preds = knn_ss.predict(X_test_scaled)\n",
    "    testing_accuracy = metrics.accuracy_score(y_test, y_preds)\n",
    "    testing_error.append(1 - testing_accuracy)\n",
    "\n",
    "plt.style.use('fivethirtyeight')\n",
    "# create a DataFrame of K, training error, and testing error\n",
    "column_dict = {'K': k_range, 'testing error':testing_error}\n",
    "df = pd.DataFrame(column_dict).set_index('K').sort_index(ascending=False)\n",
    "# plot the relationship between K (HIGH TO LOW) and TESTING ERROR\n",
    "df.plot(y='testing error')\n",
    "plt.xlabel('Value of K for KNN')\n",
    "plt.ylabel('Error (lower is better)')"
   ]
  },
  {
   "cell_type": "code",
   "execution_count": 305,
   "metadata": {},
   "outputs": [
    {
     "name": "stdout",
     "output_type": "stream",
     "text": [
      "Test set accuracy: 0.614415211143\n",
      "Test set metrics:\n",
      "                 precision    recall  f1-score   support\n",
      "\n",
      "    Electronic       0.62      0.72      0.67      2427\n",
      "Not Electronic       0.60      0.49      0.54      2096\n",
      "\n",
      "   avg / total       0.61      0.61      0.61      4523\n",
      "\n"
     ]
    }
   ],
   "source": [
    "knn_ss = KNeighborsClassifier(n_neighbors=11)\n",
    "knn_ss.fit(X_train_scaled, y_train)\n",
    "y_preds = knn_ss.predict(X_test_scaled)\n",
    "print(\"Test set accuracy:\",metrics.accuracy_score(y_test, y_preds))\n",
    "print(\"Test set metrics:\\n\",metrics.classification_report(y_test,y_preds))"
   ]
  }
 ],
 "metadata": {
  "anaconda-cloud": {},
  "kernelspec": {
   "display_name": "Python 3",
   "language": "python",
   "name": "python3"
  },
  "language_info": {
   "codemirror_mode": {
    "name": "ipython",
    "version": 3
   },
   "file_extension": ".py",
   "mimetype": "text/x-python",
   "name": "python",
   "nbconvert_exporter": "python",
   "pygments_lexer": "ipython3",
   "version": "3.6.1"
  }
 },
 "nbformat": 4,
 "nbformat_minor": 1
}
